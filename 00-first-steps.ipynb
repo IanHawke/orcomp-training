{
 "cells": [
  {
   "cell_type": "markdown",
   "metadata": {},
   "source": [
    "# First steps"
   ]
  },
  {
   "cell_type": "markdown",
   "metadata": {},
   "source": [
    "This is a brief introduction to Python and how to teach Python. It's associated with the [MATH1058 (Operational Research with Mathematical Computing)](http://www.southampton.ac.uk/courses/modules/math1058.page) which is new in 2017/18.\n",
    "\n",
    "For the teaching aspects I would strongly recommend Greg Wilson's [How to Teach Programming (And Other Things)](http://third-bit.com/2017/05/31/how-to-teach-programming.html) which is [freely available](http://third-bit.com/teaching/)."
   ]
  },
  {
   "cell_type": "markdown",
   "metadata": {},
   "source": [
    "# Python"
   ]
  },
  {
   "cell_type": "markdown",
   "metadata": {},
   "source": [
    "Python is a good general purpose language with lots of tools and libraries available, and it's free. It's a solid choice for learning programming, and for testing new code. "
   ]
  },
  {
   "cell_type": "markdown",
   "metadata": {},
   "source": [
    "## Using Python on University machines"
   ]
  },
  {
   "cell_type": "markdown",
   "metadata": {},
   "source": [
    "A number of Python tools are available on a standard university desktop machine. We will mostly be using Python through spyder, which allows us to write, run, test and debug python code in one place. To launch spyder, either type `spyder` in the search bar, or go to `Start`, then `All Programs`, then `Programming Languages`, then `Anaconda`, then choose `spyder`. If you see two versions of `Anaconda`, then pick `Anaconda 3`."
   ]
  },
  {
   "cell_type": "markdown",
   "metadata": {},
   "source": [
    "## Using Python on your own machine"
   ]
  },
  {
   "cell_type": "markdown",
   "metadata": {},
   "source": [
    "As Python is free you can install and run it on any machine (or tablet, or phone) you like. In fact, many will have Python already installed, for the use of other software. However, for programming, it is best to have an installation that all works together, which you can easily experiment with, and which won't break other programs if you change something. For these reasons, we recommend you install the [anaconda distribution](http://docs.continuum.io/anaconda/)."
   ]
  },
  {
   "cell_type": "markdown",
   "metadata": {},
   "source": [
    "### Anaconda"
   ]
  },
  {
   "cell_type": "markdown",
   "metadata": {},
   "source": [
    "If you have enough bandwidth and time (you will be downloading about 1G of software) then you can use the [Anaconda graphical installer](https://www.continuum.io/downloads). There are two versions of Python: a Python `2.X` and a Python `3.X`. There are small differences between the two. Everything we show here will work on either version. We will be using the `3.X` version.\n",
    "\n",
    "The Anaconda package installs both the essential Python package and a large amount of useful Python software. It will put a launcher icon on your desktop. Clicking on the launcher will bring up a window listing a number of applications: we will be using `spyder` as seen below."
   ]
  },
  {
   "cell_type": "markdown",
   "metadata": {},
   "source": [
    "### miniconda"
   ]
  },
  {
   "cell_type": "markdown",
   "metadata": {},
   "source": [
    "If you do not want to download all the Python packages, but only the essential ones, there is a smaller version of Anaconda, called miniconda. First, [download the miniconda package](http://conda.pydata.org/miniconda.html) for your computer. Again, we will be using the `3.X` version."
   ]
  },
  {
   "cell_type": "markdown",
   "metadata": {},
   "source": [
    "The miniconda package installs the basic Python and little else. There are a number of useful packages that we will use. You can install those using the `conda` app (either via the launcher, or via the command line). But before doing that, it is best to create an environment to install them in, which you can modify without causing problems."
   ]
  },
  {
   "cell_type": "markdown",
   "metadata": {},
   "source": [
    "### Environments"
   ]
  },
  {
   "cell_type": "markdown",
   "metadata": {},
   "source": [
    "Packages may rely on other packages, and may rely on *specific versions* of other packages in order to work. This can lead to \"dependency hell\", when you need (for different purposes) package `A` and package `B` which rely on conflicting versions of package `C`.\n",
    "\n",
    "The answer to this is *environments*, which allow you to organize your different packages to minimize conflicts. Environments are like folders, and you have one for each project you are working on. That way, you ensure that updating or installing packages for one project does not cause problems for a different project.\n",
    "\n",
    "To get the most out of environments, we need to use the command line, or terminal.\n",
    "\n",
    "#### Terminals\n",
    "\n",
    "A *terminal*, or a [*command prompt window*](http://windows.microsoft.com/en-gb/windows-vista/open-a-command-prompt-window), is a window where commands can be typed in to directly run commands or affect files. On Windows you select the `Command Prompt` from the Accessories menu. On Mac or Linux system you open a terminal or an XTerm. Inside the terminal you can change directories using the `cd` command, and run commands associated with Anaconda or miniconda using the `conda` command.\n",
    "\n",
    "#### Creating the environment\n",
    "\n",
    "We will create a single environment called `labs`. If you are running on a Mac or on Linux, open a terminal. If on Windows, use a command prompt. Then type\n",
    "\n",
    "```bash\n",
    "conda create -n or_comp python=3\n",
    "```\n",
    "\n",
    "This creates the new environment, and installs the basic `python` package in the `python 3.X` flavour. It does not activate the environment. In order to work within this environment, if using Windows type\n",
    "\n",
    "```bash\n",
    "activate or_comp\n",
    "```\n",
    "\n",
    "If using Mac or Linux type\n",
    "\n",
    "```bash\n",
    "source activate or_comp\n",
    "```\n",
    "\n",
    "Then any command launched from the terminal or command prompt will use the packages in this environment."
   ]
  },
  {
   "cell_type": "markdown",
   "metadata": {},
   "source": [
    "### Packages"
   ]
  },
  {
   "cell_type": "markdown",
   "metadata": {},
   "source": [
    "After creating the environment, and activating it, the key packages that need installing (if using miniconda; they are all installed with the full Anaconda) are:\n",
    "\n",
    "* `ipython`\n",
    "* `numpy`\n",
    "* `matplotlib`\n",
    "* `scipy`\n",
    "* `spyder`\n",
    "* `pip`\n",
    "\n",
    "Other packages that will be useful are\n",
    "\n",
    "* `jupyter`\n",
    "* `pytest`\n",
    "* `numba`\n",
    "* `pandas`\n",
    "* `scikit-learn`\n",
    "\n",
    "The command to install new packages is `conda install`. So, to install the packages above type (or copy and paste) first\n",
    "\n",
    "```bash\n",
    "activate or_comp\n",
    "```\n",
    "\n",
    "if on Windows, or \n",
    "\n",
    "```bash\n",
    "source activate or_comp\n",
    "```\n",
    "\n",
    "if on Mac or Linux, and then type\n",
    "\n",
    "```bash\n",
    "conda install ipython numpy matplotlib scipy spyder pip \\\n",
    " jupyter pytest numba pandas scikit-learn\n",
    "```\n",
    "\n",
    "**Note**: the '`\\`' backslash character should continue an overly long line: if you are typing and not copying and pasting this should be unnecessary.\n",
    "\n",
    "This will download and install a lot of additional packages that are needed; just agree and continue."
   ]
  },
  {
   "cell_type": "markdown",
   "metadata": {},
   "source": [
    "# Spyder"
   ]
  },
  {
   "cell_type": "markdown",
   "metadata": {},
   "source": [
    "There are many ways of writing and running Python code. If you open a terminal (on Mac or Linux; on Windows, this would be a Command Prompt) you can type `python` or `ipython` to launch a very bare bones *console*. This allows you to enter code which it will then run.\n",
    "\n",
    "More helpful alternatives are *Integrated Development Environments* (IDEs) or the *notebook*. The [Jupyter notebook](https://jupyter.org/) (previously called the [IPython notebook](http://ipython.org/notebook.html)) is browser based and very powerful for exploratory computing. To run, type `jupyter notebook` in the terminal prompt.\n",
    "\n",
    "However, when just getting started, or when writing large codes, IDEs are a better alternative. A simple IDE is `spyder` which we will use here. To launch, either select `spyder` from the appropriate menu, or type `spyder` at the terminal prompt.\n",
    "\n",
    "You should then see a screen something like the figure (without the annotations).\n",
    "\n",
    "![The spyder editor, with the key areas outlined and coloured.](images/spyder-py3-reduced.png)"
   ]
  },
  {
   "cell_type": "markdown",
   "metadata": {},
   "source": [
    "The four essential parts of the screen are outlined.\n",
    "\n",
    "1. The console (bottom right, marked in blue). You can work *interactively* here. Code run, either interactively or from the editor, will output any results here. Error messages will be reported here. There are two types of console: a Python console, and an IPython console. Both will run Python code, but the IPython console is easier to use.\n",
    "2. The editor (left, marked in red). You can write code to be saved to file or run here. This will suggest problems with syntax and has features to help debug and give additional information.\n",
    "3. The inspector (top right, marked in green). Can display detailed help on specific objects (or functions, or...) - the *Object inspector*, or can display detailed information on the variables that are currently defined - the *Variable inspector*. Extremely useful when debugging.\n",
    "4. The working directory (marked in yellow). When running a code this is the first place that `spyder` looks. You should ensure that the working directory is set to the location where the file is.\n",
    "\n",
    "For further information on using and setting up `spyder`, see [this tutorial](http://www.southampton.ac.uk/~fangohr/blog/spyder-the-python-ide.html)."
   ]
  },
  {
   "cell_type": "markdown",
   "metadata": {},
   "source": [
    "## Tab completion"
   ]
  },
  {
   "cell_type": "markdown",
   "metadata": {},
   "source": [
    "A crucial feature of IPython and spyder that saves time and reduces errors is *tab completion*. When typing anything, try pressing the tab key. This will either automatically complete the name of the variable (or function, or class), or will present a list of options. This is one way of finding out what functions are available - press tab and it will list them all! By typing the first few characters and then pressing tab, you can rapidly narrow down the options."
   ]
  },
  {
   "cell_type": "markdown",
   "metadata": {},
   "source": [
    "## Help"
   ]
  },
  {
   "cell_type": "markdown",
   "metadata": {},
   "source": [
    "There are many ways of getting help. The most useful are:\n",
    "\n",
    "* Type `help(<thing>)`. Works in the console.\n",
    "* Type `<thing>?` or `<thing>??`. Works in the console.\n",
    "* Type the name in the Object Inspector. Works in spyder only.\n",
    "* Google it. Pay particular attention to the online documentation and sites such as stackoverflow."
   ]
  },
  {
   "cell_type": "markdown",
   "metadata": {},
   "source": [
    "## Debugging"
   ]
  },
  {
   "cell_type": "markdown",
   "metadata": {},
   "source": [
    "There are a number of ways of seeing what's going on within your code. Within `spyder` it is worth looking at the Variable Explorer, which shows the values changing of all your variables as your work. It's also worth looking at [*code cells*](https://pythonhosted.org/spyder/editor.html#how-to-define-a-code-cell) within Spyder, which allows you to split up your code into blocks which can be individually stepped through."
   ]
  },
  {
   "cell_type": "markdown",
   "metadata": {},
   "source": [
    "# Reading list\n",
    "\n",
    "There's a lot of material related to Python online and in the library. None are essential, but lots may be useful. The particular books recommended as a first look are\n",
    "\n",
    "* Langtangen, *A Primer on Scientific Programming with Python*. Detailed, aimed more towards mathematicians than many others.\n",
    "* Newman, *Computational Physics*. Really aimed at teaching numerical algorithms rather than programming, but there's lots of useful examples at a good level.\n",
    "* Scopatz & Huff, *Effective Computation in Physics*. Covers a lot more material than just Python, not exactly aimed at mathematics, but essential background for computational research in the sciences.\n",
    "* Saha, *Doing Math with Python*. Covers more symbolic mathematics and assumes more Python background, but has lots of excellent exercises at the right level."
   ]
  },
  {
   "cell_type": "markdown",
   "metadata": {},
   "source": [
    "# Versions"
   ]
  },
  {
   "cell_type": "markdown",
   "metadata": {},
   "source": [
    "These notes have been constructed using the following versions of Python and related packages:"
   ]
  },
  {
   "cell_type": "code",
   "execution_count": 1,
   "metadata": {},
   "outputs": [
    {
     "name": "stdout",
     "output_type": "stream",
     "text": [
      "Loading extensions from ~/.ipython/extensions is deprecated. We recommend managing extensions like any other Python packages, in site-packages.\n",
      "CPython 3.6.1\n",
      "IPython 6.0.0\n",
      "\n",
      "numpy 1.12.1\n",
      "scipy 0.19.0\n",
      "matplotlib 2.0.1\n",
      "\n",
      "compiler   : GCC 4.2.1 Compatible Apple LLVM 6.0 (clang-600.0.57)\n",
      "system     : Darwin\n",
      "release    : 14.5.0\n",
      "machine    : x86_64\n",
      "processor  : i386\n",
      "CPU cores  : 4\n",
      "interpreter: 64bit\n",
      "Git hash   : 5f5fcbffa465690dbb73d977feb3b5f41790b54c\n"
     ]
    }
   ],
   "source": [
    "%load_ext watermark\n",
    "%watermark -v -m -g -p numpy,scipy,matplotlib"
   ]
  }
 ],
 "metadata": {
  "kernelspec": {
   "display_name": "Python 3",
   "language": "python",
   "name": "python3"
  },
  "language_info": {
   "codemirror_mode": {
    "name": "ipython",
    "version": 3
   },
   "file_extension": ".py",
   "mimetype": "text/x-python",
   "name": "python",
   "nbconvert_exporter": "python",
   "pygments_lexer": "ipython3",
   "version": "3.6.1"
  },
  "nbconvert": {
   "title": "First Steps"
  }
 },
 "nbformat": 4,
 "nbformat_minor": 1
}
