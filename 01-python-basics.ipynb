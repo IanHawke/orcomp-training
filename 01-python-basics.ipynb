{
 "cells": [
  {
   "cell_type": "markdown",
   "metadata": {},
   "source": [
    "# The course"
   ]
  },
  {
   "cell_type": "markdown",
   "metadata": {},
   "source": [
    "We are here to work out how to teach coding in the context of the [MATH1058 (Operational Research with Mathematical Computing)](http://www.southampton.ac.uk/courses/modules/math1058.page) which is new in 2017/18. The motivations for the computational component were [outlined in these slides](http://ianhawke.github.io/slides/first-year-computing/FirstYearProgrammingCourse.html), which led to [this much more detailed Python for Mathematicians tutorial](http://maths-with-python.readthedocs.io/en/latest/).\n",
    "\n",
    "The crucial point is not the Python (and LaTeX, and Excel) content that the students will see, but the attitude and approach towards computing that we want to instill."
   ]
  },
  {
   "cell_type": "markdown",
   "metadata": {},
   "source": [
    "## The students"
   ]
  },
  {
   "cell_type": "markdown",
   "metadata": {},
   "source": [
    "We can expect many different backgrounds within the student cohort. Some example profiles would be\n",
    "\n",
    "1. The student with a computing background, maybe doing Maths with CS, who already knows more Python than any of the instructors (\"How can I overload these Python operators in my derived classes?\").\n",
    "2. The student who's wary of computing or doesn't see its relevance to the pure, abstract mathematical approach they aspire to (\"If I wanted to do programming I wouldn't be taking Mathematics\").\n",
    "3. The student who sees computing as a pragmatic necessity for future employers but doesn't connect it to their mathematical studies (\"I'm just doing this for the CV points\")."
   ]
  },
  {
   "cell_type": "markdown",
   "metadata": {},
   "source": [
    "## The mental model"
   ]
  },
  {
   "cell_type": "markdown",
   "metadata": {},
   "source": [
    "We want all the students to construct a mental model that *links key mathematical concepts to their practical expression in code*, and *understands when using code to explore mathematics is useful*. To do this we want to\n",
    "\n",
    "* link to mathematical examples - in this case, the Operational Research part of the course, or other examples;\n",
    "* link to mathematical concepts - constructive proof, iteration, etc - whenever introducing new programming concepts;\n",
    "* emphasize the communication aspects - through documentation, and in the use of LaTeX - at all stages, to demonstrate understanding;\n",
    "* present computing as a standard tool of mathematicians.\n",
    "\n",
    "Remember: it doesn't matter if the instructor knows less computing than the student. The point is to get across your mathematical mindset."
   ]
  },
  {
   "cell_type": "markdown",
   "metadata": {},
   "source": [
    "# Python"
   ]
  },
  {
   "cell_type": "markdown",
   "metadata": {
    "collapsed": true
   },
   "source": [
    "## Notation"
   ]
  },
  {
   "cell_type": "markdown",
   "metadata": {},
   "source": [
    "When writing computer commands that you can type, the font will change to `command`. For example, `x=2**3.4/5` is a command that can be typed in.\n",
    "\n",
    "When we talk about a general command, or some piece of missing data that you should complete, we will use angle brackets as in `<command>` or `<variable>`. For example, `<location>` could mean `\"Southampton\"`.\n",
    "\n",
    "When showing actual commands as typed into Python, they will start with `In [<number>]:`. This is the notation used by the IPython console. The `<number>` allows you to refer to previous commands more easily. The output associated with that command will start with `Out [<number>]:`.\n",
    "\n",
    "When displaying code, certain commands will appear in different colours. The colours are not necessary. They highlight different types of command or variable. When using the spyder editor you may find the colours match up and are useful: if not, either ignore them or switch them off."
   ]
  },
  {
   "cell_type": "markdown",
   "metadata": {},
   "source": [
    "## The console - Python as calculator"
   ]
  },
  {
   "cell_type": "markdown",
   "metadata": {},
   "source": [
    "Start with using Python as a calculator. This is similar to typing commands directly into an Excel worksheet. Look at the *console* in the bottom right part of spyder. Here we can type commands and see a result. Simple arithmetic gives the expected results:"
   ]
  },
  {
   "cell_type": "code",
   "execution_count": 1,
   "metadata": {},
   "outputs": [
    {
     "data": {
      "text/plain": [
       "4"
      ]
     },
     "execution_count": 1,
     "metadata": {},
     "output_type": "execute_result"
    }
   ],
   "source": [
    "2+2"
   ]
  },
  {
   "cell_type": "code",
   "execution_count": 2,
   "metadata": {},
   "outputs": [
    {
     "data": {
      "text/plain": [
       "3.3039215686274517"
      ]
     },
     "execution_count": 2,
     "metadata": {},
     "output_type": "execute_result"
    }
   ],
   "source": [
    "(13.5*2.6-1.4)/10.2"
   ]
  },
  {
   "cell_type": "markdown",
   "metadata": {},
   "source": [
    "If we want to raise a number to a power, say $2^4$, the notation is `**`:"
   ]
  },
  {
   "cell_type": "code",
   "execution_count": 3,
   "metadata": {},
   "outputs": [
    {
     "data": {
      "text/plain": [
       "16"
      ]
     },
     "execution_count": 3,
     "metadata": {},
     "output_type": "execute_result"
    }
   ],
   "source": [
    "2**4"
   ]
  },
  {
   "cell_type": "markdown",
   "metadata": {},
   "source": [
    "There is an issue with division. If we divide an integer by an integer, Python `3.X` will do *real* (floating point) division, so that:"
   ]
  },
  {
   "cell_type": "code",
   "execution_count": 4,
   "metadata": {},
   "outputs": [
    {
     "data": {
      "text/plain": [
       "2.5"
      ]
     },
     "execution_count": 4,
     "metadata": {},
     "output_type": "execute_result"
    }
   ],
   "source": [
    "5/2"
   ]
  },
  {
   "cell_type": "markdown",
   "metadata": {},
   "source": [
    "However, Python `2.X` will do division in the integers:\n",
    "\n",
    "```python\n",
    "In []: 5/2\n",
    "Out []: 2\n",
    "```"
   ]
  },
  {
   "cell_type": "markdown",
   "metadata": {},
   "source": [
    "If you really want to do integer division, the command is `//`:"
   ]
  },
  {
   "cell_type": "code",
   "execution_count": 5,
   "metadata": {},
   "outputs": [
    {
     "data": {
      "text/plain": [
       "2"
      ]
     },
     "execution_count": 5,
     "metadata": {},
     "output_type": "execute_result"
    }
   ],
   "source": [
    "5//2"
   ]
  },
  {
   "cell_type": "markdown",
   "metadata": {},
   "source": [
    "## Variables"
   ]
  },
  {
   "cell_type": "markdown",
   "metadata": {},
   "source": [
    "A *variable* is an object with a name and a value:"
   ]
  },
  {
   "cell_type": "code",
   "execution_count": 6,
   "metadata": {
    "collapsed": true
   },
   "outputs": [],
   "source": [
    "x = 2"
   ]
  },
  {
   "cell_type": "markdown",
   "metadata": {},
   "source": [
    "##### Teaching note"
   ]
  },
  {
   "cell_type": "markdown",
   "metadata": {},
   "source": [
    "If students are familiar with some other scripting language this should be clear. If they're used to R (and remember they'll be doing R through MATH1024) then that uses the notation\n",
    "\n",
    "```R\n",
    "x <- 2\n",
    "```\n",
    "\n",
    "Some languages (particularly compiled languages, but Visual Basic is another that they may have seen) want the *type* of the variable declared first. So in VBA this would be\n",
    "\n",
    "```VB.NET\n",
    "DIM x AS INTEGER\n",
    "x = 2\n",
    "```"
   ]
  },
  {
   "cell_type": "markdown",
   "metadata": {},
   "source": [
    "It is worth showing that the same variable can be assigned variables of different types without any problem:"
   ]
  },
  {
   "cell_type": "code",
   "execution_count": 7,
   "metadata": {
    "collapsed": true
   },
   "outputs": [],
   "source": [
    "x = 2.3\n",
    "x = \"hello\""
   ]
  },
  {
   "cell_type": "markdown",
   "metadata": {},
   "source": [
    "We see that there's no output when you define a variable. To get output, use the `print` function:"
   ]
  },
  {
   "cell_type": "code",
   "execution_count": 8,
   "metadata": {},
   "outputs": [
    {
     "name": "stdout",
     "output_type": "stream",
     "text": [
      "hello\n",
      "x = 3.4\n",
      "x = 7\n"
     ]
    }
   ],
   "source": [
    "print(x)\n",
    "x = 3.4\n",
    "print(\"x =\", x)\n",
    "x = 7\n",
    "print(\"x = {}\".format(x))"
   ]
  },
  {
   "cell_type": "markdown",
   "metadata": {},
   "source": [
    "It is worth emphasizing that the \"equals\" sign is *not* mathematical equality, but an *assignment* operation that has an order. So we've seen that `x=2` works, but:"
   ]
  },
  {
   "cell_type": "code",
   "execution_count": 9,
   "metadata": {},
   "outputs": [
    {
     "ename": "SyntaxError",
     "evalue": "can't assign to literal (<ipython-input-9-18df7434ef40>, line 1)",
     "output_type": "error",
     "traceback": [
      "\u001b[0;36m  File \u001b[0;32m\"<ipython-input-9-18df7434ef40>\"\u001b[0;36m, line \u001b[0;32m1\u001b[0m\n\u001b[0;31m    2=x\u001b[0m\n\u001b[0m       ^\u001b[0m\n\u001b[0;31mSyntaxError\u001b[0m\u001b[0;31m:\u001b[0m can't assign to literal\n"
     ]
    }
   ],
   "source": [
    "2=x"
   ]
  },
  {
   "cell_type": "markdown",
   "metadata": {},
   "source": [
    "Variable *names* have certain rules and conventions, which are very similar to VBA.\n",
    "\n",
    "Variables *must*\n",
    "\n",
    "* not contain spaces\n",
    "* not start with a number\n",
    "* not contain a special character (such as `!@#$%^&*()\\|`)\n",
    "\n",
    "Variables *should*\n",
    "\n",
    "* be descriptive, ie say what their purpose is in the code\n",
    "* be written entirely in lower case\n",
    "* separate different words in the variable name using underscores\n",
    "\n",
    "More detail can be found in [PEP8](https://www.python.org/dev/peps/pep-0008/).\n",
    "\n",
    "It is **strongly** recommended that variables do not use any extended characters, but only the basic latin characters, numbers, and underscores."
   ]
  },
  {
   "cell_type": "markdown",
   "metadata": {},
   "source": [
    "Check that you are happy manipulating variables in the console. For example,"
   ]
  },
  {
   "cell_type": "code",
   "execution_count": 10,
   "metadata": {
    "collapsed": true
   },
   "outputs": [],
   "source": [
    "x = 3\n",
    "y = 17.5"
   ]
  },
  {
   "cell_type": "code",
   "execution_count": 11,
   "metadata": {},
   "outputs": [
    {
     "data": {
      "text/plain": [
       "20.5"
      ]
     },
     "execution_count": 11,
     "metadata": {},
     "output_type": "execute_result"
    }
   ],
   "source": [
    "x+y"
   ]
  },
  {
   "cell_type": "code",
   "execution_count": 12,
   "metadata": {},
   "outputs": [
    {
     "data": {
      "text/plain": [
       "0.17142857142857143"
      ]
     },
     "execution_count": 12,
     "metadata": {},
     "output_type": "execute_result"
    }
   ],
   "source": [
    "x/y"
   ]
  },
  {
   "cell_type": "code",
   "execution_count": 13,
   "metadata": {},
   "outputs": [
    {
     "data": {
      "text/plain": [
       "0.8820066439915335"
      ]
     },
     "execution_count": 13,
     "metadata": {},
     "output_type": "execute_result"
    }
   ],
   "source": [
    "x**(-2/y)"
   ]
  },
  {
   "cell_type": "markdown",
   "metadata": {},
   "source": [
    "Assigning a value to one variable does not change the value of other variables. Let's set the value of variable `y` to be a function of the variable `x`."
   ]
  },
  {
   "cell_type": "code",
   "execution_count": 14,
   "metadata": {},
   "outputs": [
    {
     "name": "stdout",
     "output_type": "stream",
     "text": [
      "x: 1.5, y: 2.25\n"
     ]
    }
   ],
   "source": [
    "x = 1.5\n",
    "\n",
    "y = x**2\n",
    "\n",
    "print('x: {}, y: {}'.format(x, y))"
   ]
  },
  {
   "cell_type": "markdown",
   "metadata": {},
   "source": [
    "If we change `x` by assigning it a new value, we see that `y` is not automatically updated. Once a value is assigned to a variable, it does not 'remember' where this value came from. This is different from how spreadsheets work."
   ]
  },
  {
   "cell_type": "code",
   "execution_count": 15,
   "metadata": {},
   "outputs": [
    {
     "name": "stdout",
     "output_type": "stream",
     "text": [
      "x: 3, y: 2.25\n"
     ]
    }
   ],
   "source": [
    "x = 3\n",
    "\n",
    "print('x: {}, y: {}'.format(x, y))"
   ]
  },
  {
   "cell_type": "markdown",
   "metadata": {},
   "source": [
    "Also try doing some things that you expect to break, so you understand the error messages:"
   ]
  },
  {
   "cell_type": "code",
   "execution_count": 16,
   "metadata": {},
   "outputs": [
    {
     "ename": "ZeroDivisionError",
     "evalue": "division by zero",
     "output_type": "error",
     "traceback": [
      "\u001b[0;31m---------------------------------------------------------------------------\u001b[0m",
      "\u001b[0;31mZeroDivisionError\u001b[0m                         Traceback (most recent call last)",
      "\u001b[0;32m<ipython-input-16-91e0c8b67771>\u001b[0m in \u001b[0;36m<module>\u001b[0;34m()\u001b[0m\n\u001b[0;32m----> 1\u001b[0;31m \u001b[0mx\u001b[0m \u001b[0;34m/\u001b[0m \u001b[0;36m0\u001b[0m\u001b[0;34m\u001b[0m\u001b[0m\n\u001b[0m",
      "\u001b[0;31mZeroDivisionError\u001b[0m: division by zero"
     ]
    }
   ],
   "source": [
    "x / 0"
   ]
  },
  {
   "cell_type": "code",
   "execution_count": null,
   "metadata": {
    "collapsed": true
   },
   "outputs": [],
   "source": [
    "z = \"hello\"\n",
    "y * z"
   ]
  },
  {
   "cell_type": "markdown",
   "metadata": {},
   "source": [
    "# Programs and scripts"
   ]
  },
  {
   "cell_type": "markdown",
   "metadata": {},
   "source": [
    "We will want to repeatedly execute commands, and store work for later use. The Python console is no use for this. Instead we must save the commands to a file, sometimes called a *script*. This will be a plain text file, containing Python commands. The name of the file follows the same rules as the names of Python variables.\n",
    "\n",
    "Note that most programming languages work this way. The key difference between languages is how multiple files are used together to make something happen.\n",
    "\n",
    "The editor in `spyder` is a good way of creating Python files, as it has additional tools to make it easier.\n",
    "\n",
    "As a simple example, we will use the three lines"
   ]
  },
  {
   "cell_type": "code",
   "execution_count": 17,
   "metadata": {},
   "outputs": [
    {
     "data": {
      "text/plain": [
       "14.5"
      ]
     },
     "execution_count": 17,
     "metadata": {},
     "output_type": "execute_result"
    }
   ],
   "source": [
    "x = 3\n",
    "y = 11.5\n",
    "x+y"
   ]
  },
  {
   "cell_type": "markdown",
   "metadata": {},
   "source": [
    "Go to the editor and type in the three lines:\n",
    "\n",
    "```python\n",
    "x = 3\n",
    "y = 11.5\n",
    "x+y\n",
    "```\n",
    "\n",
    "Save the file in a suitable location with the name `script1.py`. Make certain that your working directory in `spyder` matches the location you've save the file (not always needed, but always worth doing to avoid issues)."
   ]
  },
  {
   "cell_type": "markdown",
   "metadata": {},
   "source": [
    "To run this program, either\n",
    "\n",
    "* press the green \"play\" button in the toolbar;\n",
    "* press the function key `F5`;\n",
    "* select \"Run\" from the \"Run\" menu.\n",
    "\n",
    "In the console you should see a line like\n",
    "\n",
    "`runfile('/Users/ih3/msc-or-python/script1.py', wdir='/Users/ih3/msc-or-python')`\n",
    "\n",
    "appear, and nothing else. To check that the program has worked, check the value of `y`. In the console just type `y`:"
   ]
  },
  {
   "cell_type": "code",
   "execution_count": 18,
   "metadata": {},
   "outputs": [
    {
     "data": {
      "text/plain": [
       "11.5"
      ]
     },
     "execution_count": 18,
     "metadata": {},
     "output_type": "execute_result"
    }
   ],
   "source": [
    "y"
   ]
  },
  {
   "cell_type": "markdown",
   "metadata": {},
   "source": [
    "Also, in the top right of the spyder window, select the \"Variable explorer\" tab. It shows the variables that it currently knows, which should include `y`, its type (float) and its value."
   ]
  },
  {
   "cell_type": "markdown",
   "metadata": {},
   "source": [
    "Why did running the script not produce output? By default, output is only produced in the console. If you want a script to really produce output, use the `print` function.\n",
    "\n",
    "Edit your script to read\n",
    "\n",
    "```python\n",
    "x = 3\n",
    "y = 11.5\n",
    "print(x+y)\n",
    "```\n",
    "\n",
    "Save it and run it again: you should now see output in the console."
   ]
  },
  {
   "cell_type": "markdown",
   "metadata": {},
   "source": [
    "# The `import` statement"
   ]
  },
  {
   "cell_type": "markdown",
   "metadata": {},
   "source": [
    "One single file containing Python commands isn't much help. Being able to re-use previous files (and their variables and functions) is what we really want to do. To do this we need to get the information from a file.\n",
    "\n",
    "In the console type"
   ]
  },
  {
   "cell_type": "code",
   "execution_count": 19,
   "metadata": {},
   "outputs": [
    {
     "name": "stdout",
     "output_type": "stream",
     "text": [
      "14.5\n"
     ]
    }
   ],
   "source": [
    "import script1"
   ]
  },
  {
   "cell_type": "markdown",
   "metadata": {},
   "source": [
    "This finds the file `script1.py` and runs all the commands in it. As the file has been edited to explicitly `print` the result of `x+y`, we see output.\n",
    "\n",
    "What we're really interested in is the values defined in the file. Type"
   ]
  },
  {
   "cell_type": "code",
   "execution_count": 20,
   "metadata": {},
   "outputs": [
    {
     "data": {
      "text/plain": [
       "11.5"
      ]
     },
     "execution_count": 20,
     "metadata": {},
     "output_type": "execute_result"
    }
   ],
   "source": [
    "script1.y"
   ]
  },
  {
   "cell_type": "markdown",
   "metadata": {},
   "source": [
    "We see the value in the file has been stored in `<filename>.value`. This means we never have to worry about the value in the file over-writing the value we currently have, as they have *different names*. Check this by typing:"
   ]
  },
  {
   "cell_type": "code",
   "execution_count": 21,
   "metadata": {},
   "outputs": [
    {
     "name": "stdout",
     "output_type": "stream",
     "text": [
      "17.2\n",
      "11.5\n"
     ]
    }
   ],
   "source": [
    "y = 17.2\n",
    "print(y)\n",
    "print(script1.y)"
   ]
  },
  {
   "cell_type": "markdown",
   "metadata": {},
   "source": [
    "We can import the variables (and functions, and everything) from one file into another file. Create a new file (to be saved as `script2.py` which reads\n",
    "\n",
    "```\n",
    "import script1\n",
    "\n",
    "z = 4.3\n",
    "print(script1.y - z)\n",
    "```\n",
    "\n",
    "We see that it directly uses the variables from `script1`:"
   ]
  },
  {
   "cell_type": "code",
   "execution_count": 22,
   "metadata": {},
   "outputs": [
    {
     "name": "stdout",
     "output_type": "stream",
     "text": [
      "7.2\n"
     ]
    }
   ],
   "source": [
    "import script2"
   ]
  },
  {
   "cell_type": "markdown",
   "metadata": {},
   "source": [
    "##### Teaching note"
   ]
  },
  {
   "cell_type": "markdown",
   "metadata": {},
   "source": [
    "There is a persistent annoying issue with Python and `spyder` that it will *not* `import` a script (or module, or package) that has already been imported. This is usually what you want. However, when modifying scripts or working in the console we see that this can lead to confusion. In the example above, `script1` contains a `print` call, as does `script2`. When importing `script2` it *in principle* executes all commands in `script1`, so you would expect to see two lines printed. But above we only see one.\n",
    "\n",
    "This is because `script1` has already been imported into the console, so the commands in it will not be executed again. If you open a new console and `import script2` in that *before* importing `script1` then you will see two lines printed."
   ]
  },
  {
   "cell_type": "markdown",
   "metadata": {},
   "source": [
    "We can use `import` to get access to a huge range of in-built Python packages. For example, the `numpy` package gives us access to more useful mathematical and numerical functions:"
   ]
  },
  {
   "cell_type": "code",
   "execution_count": 23,
   "metadata": {},
   "outputs": [
    {
     "name": "stdout",
     "output_type": "stream",
     "text": [
      "pi is 3.141592653589793\n",
      "log(y) is 2.84490938382\n"
     ]
    }
   ],
   "source": [
    "import numpy\n",
    "print(\"pi is\", numpy.pi)\n",
    "print(\"log(y) is\", numpy.log(y))"
   ]
  },
  {
   "cell_type": "markdown",
   "metadata": {},
   "source": [
    "##### Exercise"
   ]
  },
  {
   "cell_type": "markdown",
   "metadata": {},
   "source": [
    "Check that you are happy with tab completion and/or using the help to work out how to compute $\\tanh(e)$ using `numpy` commands."
   ]
  },
  {
   "cell_type": "code",
   "execution_count": 24,
   "metadata": {},
   "outputs": [
    {
     "data": {
      "text/plain": [
       "0.99132891580059979"
      ]
     },
     "execution_count": 24,
     "metadata": {},
     "output_type": "execute_result"
    }
   ],
   "source": [
    "numpy.tanh(numpy.e)"
   ]
  }
 ],
 "metadata": {
  "kernelspec": {
   "display_name": "Python 3",
   "language": "python",
   "name": "python3"
  },
  "language_info": {
   "codemirror_mode": {
    "name": "ipython",
    "version": 3
   },
   "file_extension": ".py",
   "mimetype": "text/x-python",
   "name": "python",
   "nbconvert_exporter": "python",
   "pygments_lexer": "ipython3",
   "version": "3.6.1"
  },
  "nbconvert": {
   "title": "Python basics"
  }
 },
 "nbformat": 4,
 "nbformat_minor": 2
}
