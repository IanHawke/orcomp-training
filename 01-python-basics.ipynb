{
 "cells": [
  {
   "cell_type": "markdown",
   "metadata": {},
   "source": [
    "# Python"
   ]
  },
  {
   "cell_type": "markdown",
   "metadata": {
    "collapsed": true
   },
   "source": [
    "## Notation"
   ]
  },
  {
   "cell_type": "markdown",
   "metadata": {},
   "source": [
    "When writing computer commands that you can type, the font will change to `command`. For example, `x=2**3.4/5` is a command that can be typed in.\n",
    "\n",
    "When we talk about a general command, or some piece of missing data that you should complete, we will use angle brackets as in `<command>` or `<variable>`. For example, `<location>` could mean `\"Southampton\"`.\n",
    "\n",
    "When showing actual commands as typed into Python, they will start with `In [<number>]:`. This is the notation used by the IPython console. The `<number>` allows you to refer to previous commands more easily. The output associated with that command will start with `Out [<number>]:`.\n",
    "\n",
    "When displaying code, certain commands will appear in different colours. The colours are not necessary. They highlight different types of command or variable. When using the spyder editor you may find the colours match up and are useful: if not, either ignore them or switch them off."
   ]
  },
  {
   "cell_type": "markdown",
   "metadata": {},
   "source": [
    "## The console - Python as calculator"
   ]
  },
  {
   "cell_type": "markdown",
   "metadata": {},
   "source": [
    "Start with using Python as a calculator. This is similar to typing commands directly into an Excel worksheet. Look at the *console* in the bottom right part of spyder. Here we can type commands and see a result. Simple arithmetic gives the expected results:"
   ]
  },
  {
   "cell_type": "code",
   "execution_count": 1,
   "metadata": {
    "collapsed": false
   },
   "outputs": [
    {
     "data": {
      "text/plain": [
       "4"
      ]
     },
     "execution_count": 1,
     "metadata": {},
     "output_type": "execute_result"
    }
   ],
   "source": [
    "2+2"
   ]
  },
  {
   "cell_type": "code",
   "execution_count": 2,
   "metadata": {
    "collapsed": false
   },
   "outputs": [
    {
     "data": {
      "text/plain": [
       "3.3039215686274517"
      ]
     },
     "execution_count": 2,
     "metadata": {},
     "output_type": "execute_result"
    }
   ],
   "source": [
    "(13.5*2.6-1.4)/10.2"
   ]
  },
  {
   "cell_type": "markdown",
   "metadata": {},
   "source": [
    "If we want to raise a number to a power, say $2^4$, the notation is `**`:"
   ]
  },
  {
   "cell_type": "code",
   "execution_count": 3,
   "metadata": {
    "collapsed": false
   },
   "outputs": [
    {
     "data": {
      "text/plain": [
       "16"
      ]
     },
     "execution_count": 3,
     "metadata": {},
     "output_type": "execute_result"
    }
   ],
   "source": [
    "2**4"
   ]
  },
  {
   "cell_type": "markdown",
   "metadata": {},
   "source": [
    "There is an issue with division. If we divide an integer by an integer, Python `3.X` will do *real* (floating point) division, so that:"
   ]
  },
  {
   "cell_type": "code",
   "execution_count": 4,
   "metadata": {
    "collapsed": false
   },
   "outputs": [
    {
     "data": {
      "text/plain": [
       "2.5"
      ]
     },
     "execution_count": 4,
     "metadata": {},
     "output_type": "execute_result"
    }
   ],
   "source": [
    "5/2"
   ]
  },
  {
   "cell_type": "markdown",
   "metadata": {},
   "source": [
    "However, Python `2.X` will do division in the integers:\n",
    "\n",
    "```python\n",
    "In []: 5/2\n",
    "Out []: 2\n",
    "```\n",
    "\n",
    "If you are using Python `2.X` and want the division operator to behave in this way, start by using the command"
   ]
  },
  {
   "cell_type": "code",
   "execution_count": 5,
   "metadata": {
    "collapsed": true
   },
   "outputs": [],
   "source": [
    "from __future__ import division"
   ]
  },
  {
   "cell_type": "markdown",
   "metadata": {},
   "source": [
    "If you really want to do integer division, the command is `//`:"
   ]
  },
  {
   "cell_type": "code",
   "execution_count": 6,
   "metadata": {
    "collapsed": false
   },
   "outputs": [
    {
     "data": {
      "text/plain": [
       "2"
      ]
     },
     "execution_count": 6,
     "metadata": {},
     "output_type": "execute_result"
    }
   ],
   "source": [
    "5//2"
   ]
  },
  {
   "cell_type": "markdown",
   "metadata": {},
   "source": [
    "## Variables"
   ]
  },
  {
   "cell_type": "markdown",
   "metadata": {},
   "source": [
    "A *variable* is an object with a name and a value:"
   ]
  },
  {
   "cell_type": "code",
   "execution_count": 7,
   "metadata": {
    "collapsed": true
   },
   "outputs": [],
   "source": [
    "x = 2"
   ]
  },
  {
   "cell_type": "markdown",
   "metadata": {},
   "source": [
    "This should look familiar to VBA, with one big difference: you don't have to declare the *type* of the variable ahead of time. So no statements like\n",
    "\n",
    "```VB.NET\n",
    "DIM x AS INTEGER\n",
    "```\n",
    "\n",
    "are needed. In fact, the same variable can be assigned variables of different types without any problem:"
   ]
  },
  {
   "cell_type": "code",
   "execution_count": 8,
   "metadata": {
    "collapsed": true
   },
   "outputs": [],
   "source": [
    "x = 2.3\n",
    "x = \"hello\""
   ]
  },
  {
   "cell_type": "markdown",
   "metadata": {},
   "source": [
    "We see that there's no output when you define a variable. To get output, use the `print` function:"
   ]
  },
  {
   "cell_type": "code",
   "execution_count": 9,
   "metadata": {
    "collapsed": false
   },
   "outputs": [
    {
     "name": "stdout",
     "output_type": "stream",
     "text": [
      "hello\n",
      "x = 3.4\n",
      "x = 7\n"
     ]
    }
   ],
   "source": [
    "print(x)\n",
    "x = 3.4\n",
    "print(\"x =\", x)\n",
    "x = 7\n",
    "print(\"x = {}\".format(x))"
   ]
  },
  {
   "cell_type": "markdown",
   "metadata": {},
   "source": [
    "Variable *names* have certain rules and conventions, which are very similar to VBA.\n",
    "\n",
    "Variables *must*\n",
    "\n",
    "* not contain spaces\n",
    "* not start with a number\n",
    "* not contain a special character (such as `!@#$%^&*()\\|`)\n",
    "\n",
    "Variables *should*\n",
    "\n",
    "* be descriptive, ie say what their purpose is in the code\n",
    "* be written entirely in lower case\n",
    "* separate different words in the variable name using underscores\n",
    "\n",
    "More detail can be found in [PEP8](https://www.python.org/dev/peps/pep-0008/).\n",
    "\n",
    "It is **strongly** recommended that variables do not use any extended characters, but only the basic latin characters, numbers, and underscores."
   ]
  },
  {
   "cell_type": "markdown",
   "metadata": {},
   "source": [
    "Check that you are happy manipulating variables in the console. For example,"
   ]
  },
  {
   "cell_type": "code",
   "execution_count": 10,
   "metadata": {
    "collapsed": true
   },
   "outputs": [],
   "source": [
    "x = 3\n",
    "y = 17.5"
   ]
  },
  {
   "cell_type": "code",
   "execution_count": 11,
   "metadata": {
    "collapsed": false
   },
   "outputs": [
    {
     "data": {
      "text/plain": [
       "20.5"
      ]
     },
     "execution_count": 11,
     "metadata": {},
     "output_type": "execute_result"
    }
   ],
   "source": [
    "x+y"
   ]
  },
  {
   "cell_type": "code",
   "execution_count": 12,
   "metadata": {
    "collapsed": false
   },
   "outputs": [
    {
     "data": {
      "text/plain": [
       "0.17142857142857143"
      ]
     },
     "execution_count": 12,
     "metadata": {},
     "output_type": "execute_result"
    }
   ],
   "source": [
    "x/y"
   ]
  },
  {
   "cell_type": "code",
   "execution_count": 13,
   "metadata": {
    "collapsed": false
   },
   "outputs": [
    {
     "data": {
      "text/plain": [
       "0.8820066439915335"
      ]
     },
     "execution_count": 13,
     "metadata": {},
     "output_type": "execute_result"
    }
   ],
   "source": [
    "x**(-2/y)"
   ]
  },
  {
   "cell_type": "markdown",
   "metadata": {},
   "source": [
    "Assigning a value to one variable does not change the value of other variables. Let's set the value of variable `y` to be a function of the variable `x`."
   ]
  },
  {
   "cell_type": "code",
   "execution_count": 7,
   "metadata": {
    "collapsed": false
   },
   "outputs": [
    {
     "name": "stdout",
     "output_type": "stream",
     "text": [
      "x: 1.5, y: 2.25\n"
     ]
    }
   ],
   "source": [
    "x = 1.5\n",
    "\n",
    "y = x**2\n",
    "\n",
    "print('x: {}, y: {}'.format(x, y))"
   ]
  },
  {
   "cell_type": "markdown",
   "metadata": {},
   "source": [
    "If we change `x` by assigning it a new value, we see that `y` is not automatically updated. Once a value is assigned to a variable, it does not 'remember' where this value came from. This is different from how spreadsheets work."
   ]
  },
  {
   "cell_type": "code",
   "execution_count": 8,
   "metadata": {
    "collapsed": false
   },
   "outputs": [
    {
     "name": "stdout",
     "output_type": "stream",
     "text": [
      "x: 3, y: 2.25\n"
     ]
    }
   ],
   "source": [
    "x = 3\n",
    "\n",
    "print('x: {}, y: {}'.format(x, y))"
   ]
  },
  {
   "cell_type": "markdown",
   "metadata": {},
   "source": [
    "Also try doing some things that you expect to break, so you understand the error messages:"
   ]
  },
  {
   "cell_type": "code",
   "execution_count": 14,
   "metadata": {
    "collapsed": false
   },
   "outputs": [
    {
     "ename": "ZeroDivisionError",
     "evalue": "division by zero",
     "output_type": "error",
     "traceback": [
      "\u001b[0;31m---------------------------------------------------------------------------\u001b[0m",
      "\u001b[0;31mZeroDivisionError\u001b[0m                         Traceback (most recent call last)",
      "\u001b[0;32m<ipython-input-14-91e0c8b67771>\u001b[0m in \u001b[0;36m<module>\u001b[0;34m()\u001b[0m\n\u001b[0;32m----> 1\u001b[0;31m \u001b[0mx\u001b[0m \u001b[0;34m/\u001b[0m \u001b[0;36m0\u001b[0m\u001b[0;34m\u001b[0m\u001b[0m\n\u001b[0m",
      "\u001b[0;31mZeroDivisionError\u001b[0m: division by zero"
     ]
    }
   ],
   "source": [
    "x / 0"
   ]
  },
  {
   "cell_type": "code",
   "execution_count": 15,
   "metadata": {
    "collapsed": false
   },
   "outputs": [
    {
     "ename": "TypeError",
     "evalue": "can't multiply sequence by non-int of type 'float'",
     "output_type": "error",
     "traceback": [
      "\u001b[0;31m---------------------------------------------------------------------------\u001b[0m",
      "\u001b[0;31mTypeError\u001b[0m                                 Traceback (most recent call last)",
      "\u001b[0;32m<ipython-input-15-f28ddb44661e>\u001b[0m in \u001b[0;36m<module>\u001b[0;34m()\u001b[0m\n\u001b[1;32m      1\u001b[0m \u001b[0mz\u001b[0m \u001b[0;34m=\u001b[0m \u001b[0;34m\"hello\"\u001b[0m\u001b[0;34m\u001b[0m\u001b[0m\n\u001b[0;32m----> 2\u001b[0;31m \u001b[0my\u001b[0m \u001b[0;34m*\u001b[0m \u001b[0mz\u001b[0m\u001b[0;34m\u001b[0m\u001b[0m\n\u001b[0m",
      "\u001b[0;31mTypeError\u001b[0m: can't multiply sequence by non-int of type 'float'"
     ]
    }
   ],
   "source": [
    "z = \"hello\"\n",
    "y * z"
   ]
  },
  {
   "cell_type": "markdown",
   "metadata": {},
   "source": [
    "# Programs and scripts"
   ]
  },
  {
   "cell_type": "markdown",
   "metadata": {},
   "source": [
    "A lot of VBA depends on subroutines and functions to repeatedly execute commands. The Python console is no use for this. Instead we must save the commands to a file, sometimes called a *script*. This will be a plain text file, containing Python commands. The name of the file follows the same rules as the names of Python variables.\n",
    "\n",
    "The editor in spyder is a good way of creating Python files, as it has additional tools to make it easier.\n",
    "\n",
    "As a simple example, we will use the three lines"
   ]
  },
  {
   "cell_type": "code",
   "execution_count": 16,
   "metadata": {
    "collapsed": false
   },
   "outputs": [
    {
     "data": {
      "text/plain": [
       "14.5"
      ]
     },
     "execution_count": 16,
     "metadata": {},
     "output_type": "execute_result"
    }
   ],
   "source": [
    "x = 3\n",
    "y = 11.5\n",
    "x+y"
   ]
  },
  {
   "cell_type": "markdown",
   "metadata": {},
   "source": [
    "Go to the editor and type in the three lines:\n",
    "\n",
    "```python\n",
    "x = 3\n",
    "y = 11.5\n",
    "x+y\n",
    "```\n",
    "\n",
    "Save the file in a suitable location with the name `script1.py`."
   ]
  },
  {
   "cell_type": "markdown",
   "metadata": {},
   "source": [
    "To run this program, either\n",
    "\n",
    "* press the green \"play\" button in the toolbar;\n",
    "* press the function key `F5`;\n",
    "* select \"Run\" from the \"Run\" menu.\n",
    "\n",
    "In the console you should see a line like\n",
    "\n",
    "`runfile('/Users/ih3/msc-or-python/script1.py', wdir='/Users/ih3/msc-or-python')`\n",
    "\n",
    "appear, and nothing else. To check that the program has worked, check the value of `y`. In the console just type `y`:"
   ]
  },
  {
   "cell_type": "code",
   "execution_count": 17,
   "metadata": {
    "collapsed": false
   },
   "outputs": [
    {
     "data": {
      "text/plain": [
       "11.5"
      ]
     },
     "execution_count": 17,
     "metadata": {},
     "output_type": "execute_result"
    }
   ],
   "source": [
    "y"
   ]
  },
  {
   "cell_type": "markdown",
   "metadata": {},
   "source": [
    "Also, in the top right of the spyder window, select the \"Variable explorer\" tab. It shows the variables that it currently knows, which should include `y`, its type (float) and its value."
   ]
  },
  {
   "cell_type": "markdown",
   "metadata": {},
   "source": [
    "Why did running the script not produce output? By default, output is only produced in the console. If you want a script to really produce output, use the `print` function.\n",
    "\n",
    "Edit your script to read\n",
    "\n",
    "```python\n",
    "x = 3\n",
    "y = 11.5\n",
    "print(x+y)\n",
    "```\n",
    "\n",
    "Save it and run it again: you should now see output in the console."
   ]
  },
  {
   "cell_type": "markdown",
   "metadata": {},
   "source": [
    "# The `import` statement"
   ]
  },
  {
   "cell_type": "markdown",
   "metadata": {},
   "source": [
    "One single file containing Python commands isn't much help. Being able to re-use previous files (and their variables and functions) is what we really want to do. To do this we need to get the information from a file.\n",
    "\n",
    "In the console type"
   ]
  },
  {
   "cell_type": "code",
   "execution_count": 18,
   "metadata": {
    "collapsed": false
   },
   "outputs": [
    {
     "name": "stdout",
     "output_type": "stream",
     "text": [
      "14.5\n"
     ]
    }
   ],
   "source": [
    "import script1"
   ]
  },
  {
   "cell_type": "markdown",
   "metadata": {},
   "source": [
    "This finds the file `script1.py` and runs all the commands in it. As the file has been edited to explicitly `print` the result of `x+y`, we see output.\n",
    "\n",
    "What we're really interested in is the values defined in the file. Type"
   ]
  },
  {
   "cell_type": "code",
   "execution_count": 19,
   "metadata": {
    "collapsed": false
   },
   "outputs": [
    {
     "data": {
      "text/plain": [
       "11.5"
      ]
     },
     "execution_count": 19,
     "metadata": {},
     "output_type": "execute_result"
    }
   ],
   "source": [
    "script1.y"
   ]
  },
  {
   "cell_type": "markdown",
   "metadata": {},
   "source": [
    "We see the value in the file has been stored in `<filename>.value`. This means we never have to worry about the value in the file over-writing the value we currently have, as they have *different names*. Check this by typing:"
   ]
  },
  {
   "cell_type": "code",
   "execution_count": 20,
   "metadata": {
    "collapsed": false
   },
   "outputs": [
    {
     "name": "stdout",
     "output_type": "stream",
     "text": [
      "17.2\n",
      "11.5\n"
     ]
    }
   ],
   "source": [
    "y = 17.2\n",
    "print(y)\n",
    "print(script1.y)"
   ]
  },
  {
   "cell_type": "markdown",
   "metadata": {},
   "source": [
    "We can use `import` to get access to a huge range of in-built Python packages. For example, the `numpy` package gives us access to more useful mathematical and numerical functions:"
   ]
  },
  {
   "cell_type": "code",
   "execution_count": 21,
   "metadata": {
    "collapsed": false
   },
   "outputs": [
    {
     "name": "stdout",
     "output_type": "stream",
     "text": [
      "pi is 3.141592653589793\n",
      "log(y) is 2.84490938382\n"
     ]
    }
   ],
   "source": [
    "import numpy\n",
    "print(\"pi is\", numpy.pi)\n",
    "print(\"log(y) is\", numpy.log(y))"
   ]
  },
  {
   "cell_type": "markdown",
   "metadata": {},
   "source": [
    "##### Exercise"
   ]
  },
  {
   "cell_type": "markdown",
   "metadata": {},
   "source": [
    "Check that you are happy with tab completion and/or using the help to work out how to compute $\\tanh(e)$ using `numpy` commands."
   ]
  },
  {
   "cell_type": "code",
   "execution_count": 22,
   "metadata": {
    "collapsed": false
   },
   "outputs": [
    {
     "data": {
      "text/plain": [
       "0.99132891580059979"
      ]
     },
     "execution_count": 22,
     "metadata": {},
     "output_type": "execute_result"
    }
   ],
   "source": [
    "numpy.tanh(numpy.e)"
   ]
  }
 ],
 "metadata": {
  "kernelspec": {
   "display_name": "Python 3",
   "language": "python",
   "name": "python3"
  },
  "language_info": {
   "codemirror_mode": {
    "name": "ipython",
    "version": 3
   },
   "file_extension": ".py",
   "mimetype": "text/x-python",
   "name": "python",
   "nbconvert_exporter": "python",
   "pygments_lexer": "ipython3",
   "version": "3.4.4"
  },
  "nbconvert": {
   "title": "Python basics"
  }
 },
 "nbformat": 4,
 "nbformat_minor": 2
}
