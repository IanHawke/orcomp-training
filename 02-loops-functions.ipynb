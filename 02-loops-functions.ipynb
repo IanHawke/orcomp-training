{
 "cells": [
  {
   "cell_type": "markdown",
   "metadata": {},
   "source": [
    "# Functions"
   ]
  },
  {
   "cell_type": "markdown",
   "metadata": {},
   "source": [
    "Storing individual Python commands for re-use is one thing. Creating a *function* that can be repeatedly applied to different input data is quite another, and of huge importance in coding.\n",
    "\n",
    "In VBA there are two related concepts: subroutines and functions. Subroutines perform actions, functions return results (given inputs). In Python there is no distinction: any function can both return results and perform actions.\n",
    "\n",
    "In VBA there is a standard layout. For subroutines we have\n",
    "\n",
    "```VB.NET\n",
    "Sub name()\n",
    "'\n",
    "' Comments\n",
    "'\n",
    "    Code\n",
    "End Sub\n",
    "```\n",
    "\n",
    "For functions we have\n",
    "\n",
    "```VB.NET\n",
    "Function name(arguments)\n",
    "'\n",
    "' Comments\n",
    "'\n",
    "    name = ...\n",
    "End Function\n",
    "```\n",
    "\n",
    "A similar structure holds in Python. Here we have\n",
    "\n",
    "```python\n",
    "def name(arguments):\n",
    "    \"\"\"\n",
    "    Comments\n",
    "    \"\"\"\n",
    "    return value\n",
    "```\n",
    "\n",
    "The `def` keyword says that what follows is a function. Again, the name of the function follows the same rules and conventions as variables and files. The colon `:` at the end of the first line is essential: everything that follows that is indented will be the code to be executed when the function is called. The indentation is also essential. As soon as the indentation stops, the function stops (like `End Function` in VBA)."
   ]
  },
  {
   "cell_type": "markdown",
   "metadata": {},
   "source": [
    "Here is a simple example, that you can type directly into the console or into a file:"
   ]
  },
  {
   "cell_type": "code",
   "execution_count": 1,
   "metadata": {},
   "outputs": [
    {
     "data": {
      "text/plain": [
       "3"
      ]
     },
     "execution_count": 1,
     "metadata": {},
     "output_type": "execute_result"
    }
   ],
   "source": [
    "def add(x, y):\n",
    "    \"\"\"\n",
    "    Add two numbers\n",
    "    \n",
    "    Parameters\n",
    "    ----------\n",
    "    \n",
    "    x : float\n",
    "        First input\n",
    "    y : float\n",
    "        Second input\n",
    "    \n",
    "    Returns\n",
    "    -------\n",
    "    \n",
    "    x + y : float\n",
    "    \"\"\"\n",
    "    return x + y\n",
    "\n",
    "add(1, 2)"
   ]
  },
  {
   "cell_type": "markdown",
   "metadata": {},
   "source": [
    "We see that the line `add(1, 2)` is *outside the function* and so is executed. We can also call the function repeatedly:"
   ]
  },
  {
   "cell_type": "code",
   "execution_count": 2,
   "metadata": {},
   "outputs": [
    {
     "name": "stdout",
     "output_type": "stream",
     "text": [
      "7\n",
      "16.6\n"
     ]
    }
   ],
   "source": [
    "print(add(3, 4))\n",
    "print(add(10.61, 5.99))"
   ]
  },
  {
   "cell_type": "markdown",
   "metadata": {},
   "source": [
    "The lengthy comment at the start of the function is very useful to remind yourself later what the function should do. You can see this information by typing"
   ]
  },
  {
   "cell_type": "code",
   "execution_count": 3,
   "metadata": {},
   "outputs": [
    {
     "name": "stdout",
     "output_type": "stream",
     "text": [
      "Help on function add in module __main__:\n",
      "\n",
      "add(x, y)\n",
      "    Add two numbers\n",
      "    \n",
      "    Parameters\n",
      "    ----------\n",
      "    \n",
      "    x : float\n",
      "        First input\n",
      "    y : float\n",
      "        Second input\n",
      "    \n",
      "    Returns\n",
      "    -------\n",
      "    \n",
      "    x + y : float\n",
      "\n"
     ]
    }
   ],
   "source": [
    "help(add)"
   ]
  },
  {
   "cell_type": "markdown",
   "metadata": {},
   "source": [
    "You can also view this in spyder by typing `add` in the `Object` window of the `Help` tab in the top right."
   ]
  },
  {
   "cell_type": "markdown",
   "metadata": {},
   "source": [
    "We can save the function to a file and re-use the function by `import`ing the file. Create a new file in the spyder editor containing\n",
    "\n",
    "```python\n",
    "def add(x, y):\n",
    "    \"\"\"\n",
    "    Add two numbers\n",
    "    \n",
    "    Parameters\n",
    "    ----------\n",
    "    \n",
    "    x : float\n",
    "        First input\n",
    "    y : float\n",
    "        Second input\n",
    "    \n",
    "    Returns\n",
    "    -------\n",
    "    \n",
    "    x + y : float\n",
    "    \"\"\"\n",
    "    return x + y\n",
    "```\n",
    "\n",
    "and save it as `script2.py`. Then in the console check that it works as expected:"
   ]
  },
  {
   "cell_type": "code",
   "execution_count": 4,
   "metadata": {},
   "outputs": [
    {
     "data": {
      "text/plain": [
       "3"
      ]
     },
     "execution_count": 4,
     "metadata": {},
     "output_type": "execute_result"
    }
   ],
   "source": [
    "import script2\n",
    "script2.add(1, 2)"
   ]
  },
  {
   "cell_type": "markdown",
   "metadata": {},
   "source": [
    "# `if` statements and flow control"
   ]
  },
  {
   "cell_type": "markdown",
   "metadata": {},
   "source": [
    "We often need to make a *decision* whether to do something, or to do something else. In Visual Basic this uses an `If` statement:\n",
    "\n",
    "```VB.Net\n",
    "Dim count As Integer = 0\n",
    "Dim message As String\n",
    "\n",
    "If count = 0 Then\n",
    "    message = \"There are no items.\"\n",
    "ElseIf count = 1 Then\n",
    "    message = \"There is 1 item.\"\n",
    "Else\n",
    "    message = \"There are \" & count & \" items.\"\n",
    "End If\n",
    "```\n",
    "\n",
    "The equivalent Python code is similar:"
   ]
  },
  {
   "cell_type": "code",
   "execution_count": 5,
   "metadata": {},
   "outputs": [
    {
     "name": "stdout",
     "output_type": "stream",
     "text": [
      "There are no items.\n"
     ]
    }
   ],
   "source": [
    "count = 0\n",
    "\n",
    "if count == 0:\n",
    "    message = \"There are no items.\"\n",
    "elif count == 1:\n",
    "    message = \"There is 1 item.\"\n",
    "else:\n",
    "    message = \"There are\" + count + \" items.\"\n",
    "\n",
    "print(message)"
   ]
  },
  {
   "cell_type": "markdown",
   "metadata": {},
   "source": [
    "We see that the Visual Basic `If` statement becomes the *lower case* `if`, and the `ElseIf` is contracted to `elif`. The *condition* (in this case!) compares a variable, `count`, to a number, using the equality comparison `==`. Once again, as in the case of functions, the line containing the `if` definition is ended with a colon (`:`), and the commands to be executed are indented."
   ]
  },
  {
   "cell_type": "markdown",
   "metadata": {},
   "source": [
    "We can include as many branches of the `if` statement as we like using multiple `elif` statements. We do not *need* to use any `elif` statements, nor an `else`, unless we want (or need) to. We can nest `if` statements inside each other."
   ]
  },
  {
   "cell_type": "markdown",
   "metadata": {},
   "source": [
    "# Loops"
   ]
  },
  {
   "cell_type": "markdown",
   "metadata": {},
   "source": [
    "We will often want to run the same code many times on similar input. Let us suppose we want to add $n$ to $3$, where $n$ is every number between $1$ and $5$. We could do: "
   ]
  },
  {
   "cell_type": "code",
   "execution_count": 6,
   "metadata": {},
   "outputs": [
    {
     "name": "stdout",
     "output_type": "stream",
     "text": [
      "4\n",
      "5\n",
      "6\n",
      "7\n",
      "8\n"
     ]
    }
   ],
   "source": [
    "print(add(3, 1))\n",
    "print(add(3, 2))\n",
    "print(add(3, 3))\n",
    "print(add(3, 4))\n",
    "print(add(3, 5))"
   ]
  },
  {
   "cell_type": "markdown",
   "metadata": {},
   "source": [
    "This is tedious and there's a high chance of errors.\n",
    "\n",
    "In VBA you can define a *loop* that repeats commands as, for example\n",
    "\n",
    "```VB.NET\n",
    "    For n = 1 To 5\n",
    "        Z = 3 + n\n",
    "    Next n\n",
    "```\n",
    "\n",
    "In Python there is also a `for` loop:"
   ]
  },
  {
   "cell_type": "code",
   "execution_count": 7,
   "metadata": {},
   "outputs": [
    {
     "name": "stdout",
     "output_type": "stream",
     "text": [
      "4\n",
      "5\n",
      "6\n",
      "7\n",
      "8\n",
      "Loop has ended\n"
     ]
    }
   ],
   "source": [
    "for n in 1, 2, 3, 4, 5:\n",
    "    print(add(3, n))\n",
    "print(\"Loop has ended\")"
   ]
  },
  {
   "cell_type": "markdown",
   "metadata": {},
   "source": [
    "The syntax has similarities to the syntax for functions. The line defining the loop starts with `for`, specifies the values that `n` takes, and ends with a colon. The code that is executed inside the loop is indented.\n",
    "\n",
    "As a short-hand for integer loops, we can use the `range` function:"
   ]
  },
  {
   "cell_type": "code",
   "execution_count": 8,
   "metadata": {},
   "outputs": [
    {
     "name": "stdout",
     "output_type": "stream",
     "text": [
      "n = 1\n",
      "n = 2\n",
      "n = 3\n",
      "n = 4\n",
      "n = 5\n",
      "m = 0\n",
      "m = 1\n",
      "m = 2\n",
      "k = 2\n",
      "k = 4\n",
      "k = 6\n"
     ]
    }
   ],
   "source": [
    "for n in range(1, 6):\n",
    "    print(\"n =\", n)\n",
    "for m in range(3):\n",
    "    print(\"m =\", m)\n",
    "for k in range(2, 7, 2):\n",
    "    print(\"k =\", k)"
   ]
  },
  {
   "cell_type": "markdown",
   "metadata": {},
   "source": [
    "We see that \n",
    "\n",
    "* if two numbers are given, `range` returns all integers from the first number up to *but not including* the second in steps of $1$;\n",
    "* if one number is given, `range` starts from $0$;\n",
    "* if three numbers are given, the third is the step."
   ]
  },
  {
   "cell_type": "markdown",
   "metadata": {},
   "source": [
    "In fact Python will iterate over *any* collection of objects: they do not have to be integers:"
   ]
  },
  {
   "cell_type": "code",
   "execution_count": 9,
   "metadata": {},
   "outputs": [
    {
     "name": "stdout",
     "output_type": "stream",
     "text": [
      "thing is  1\n",
      "thing is  2.5\n",
      "thing is  hello\n",
      "thing is  <function add at 0x10b0bc8c8>\n"
     ]
    }
   ],
   "source": [
    "for thing in 1, 2.5, \"hello\", add:\n",
    "    print(\"thing is \", thing)"
   ]
  },
  {
   "cell_type": "markdown",
   "metadata": {},
   "source": [
    "This is very often used in Python code: if you have some way of collecting things together, Python will happily iterate over them all."
   ]
  },
  {
   "cell_type": "markdown",
   "metadata": {},
   "source": [
    "# Containers, sequences, lists, arrays"
   ]
  },
  {
   "cell_type": "markdown",
   "metadata": {},
   "source": [
    "So what are the Python ways of collecting things together? In VBA, there are arrays:\n",
    "\n",
    "```VB.NET\n",
    "    Dim A(2) AS DOUBLE\n",
    "```\n",
    "\n",
    "defines an array, or vector, of length $3$, starting from $0$, of double precision floating point numbers.\n",
    "\n",
    "```VB.NET\n",
    "    Dim B() AS DOUBLE\n",
    "```\n",
    "\n",
    "defines an array, or vector, of *arbitrary* length, starting from $0$, of double precision floating point numbers. You can also start arrays from values other than $0$. The individual entries are accessed and modified using, for example, `A(0)`.\n",
    "\n",
    "In Python there are many ways of collecting objects together. The closest to VBA are *tuples* and *lists*."
   ]
  },
  {
   "cell_type": "markdown",
   "metadata": {},
   "source": [
    "## Tuples"
   ]
  },
  {
   "cell_type": "markdown",
   "metadata": {},
   "source": [
    "A tuple is a sequence with fixed size, whose entries cannot be modified:"
   ]
  },
  {
   "cell_type": "code",
   "execution_count": 10,
   "metadata": {},
   "outputs": [
    {
     "name": "stdout",
     "output_type": "stream",
     "text": [
      "0\n",
      "3\n"
     ]
    }
   ],
   "source": [
    "t1 = (0, 1, 2, 3, 4, 5)\n",
    "print(t1[0])\n",
    "print(t1[3])"
   ]
  },
  {
   "cell_type": "markdown",
   "metadata": {},
   "source": [
    "We see that to access individual entries we use square brackets and the number of the entry, starting from $0$. **All** Python tuples and lists start from $0$. To check that it cannot be modified:"
   ]
  },
  {
   "cell_type": "code",
   "execution_count": 11,
   "metadata": {},
   "outputs": [
    {
     "ename": "TypeError",
     "evalue": "'tuple' object does not support item assignment",
     "output_type": "error",
     "traceback": [
      "\u001b[0;31m---------------------------------------------------------------------------\u001b[0m",
      "\u001b[0;31mTypeError\u001b[0m                                 Traceback (most recent call last)",
      "\u001b[0;32m<ipython-input-11-9e1f4de27f17>\u001b[0m in \u001b[0;36m<module>\u001b[0;34m()\u001b[0m\n\u001b[0;32m----> 1\u001b[0;31m \u001b[0mt1\u001b[0m\u001b[0;34m[\u001b[0m\u001b[0;36m0\u001b[0m\u001b[0;34m]\u001b[0m \u001b[0;34m=\u001b[0m \u001b[0;36m1\u001b[0m\u001b[0;34m\u001b[0m\u001b[0m\n\u001b[0m",
      "\u001b[0;31mTypeError\u001b[0m: 'tuple' object does not support item assignment"
     ]
    }
   ],
   "source": [
    "t1[0] = 1"
   ]
  },
  {
   "cell_type": "markdown",
   "metadata": {},
   "source": [
    "We can use *slicing* to access many entries at once:"
   ]
  },
  {
   "cell_type": "code",
   "execution_count": 12,
   "metadata": {},
   "outputs": [
    {
     "name": "stdout",
     "output_type": "stream",
     "text": [
      "(1, 2, 3)\n"
     ]
    }
   ],
   "source": [
    "print(t1[1:4])"
   ]
  },
  {
   "cell_type": "markdown",
   "metadata": {},
   "source": [
    "As with the range function, the notation `<start>:<end>` returns the entries from (and including) `<start>` up to, but **not** including, `<end>`."
   ]
  },
  {
   "cell_type": "markdown",
   "metadata": {},
   "source": [
    "We can use *negative* numbers to access from the right of the sequence: `-1` is the last entry, `-2` the next-to-last, and so on:"
   ]
  },
  {
   "cell_type": "code",
   "execution_count": 13,
   "metadata": {},
   "outputs": [
    {
     "name": "stdout",
     "output_type": "stream",
     "text": [
      "5\n"
     ]
    }
   ],
   "source": [
    "print(t1[-1])"
   ]
  },
  {
   "cell_type": "markdown",
   "metadata": {},
   "source": [
    "## Lists"
   ]
  },
  {
   "cell_type": "markdown",
   "metadata": {},
   "source": [
    "A list is a sequence with a size that can change, and whose entries can be modified:"
   ]
  },
  {
   "cell_type": "code",
   "execution_count": 14,
   "metadata": {},
   "outputs": [
    {
     "name": "stdout",
     "output_type": "stream",
     "text": [
      "3\n",
      "7\n",
      "[0, 1, 2, 7, 4, 5, 6]\n"
     ]
    }
   ],
   "source": [
    "l1 = [0, 1, 2, 3, 4, 5]\n",
    "print(l1[3])\n",
    "l1[3] = 7\n",
    "print(l1[3])\n",
    "l1.append(6)\n",
    "print(l1)"
   ]
  },
  {
   "cell_type": "markdown",
   "metadata": {},
   "source": [
    "The same slicing notation can be used, and now can be used to assignment:"
   ]
  },
  {
   "cell_type": "code",
   "execution_count": 15,
   "metadata": {},
   "outputs": [
    {
     "name": "stdout",
     "output_type": "stream",
     "text": [
      "[4, 5, 2, 7, 4, 5, 6]\n"
     ]
    }
   ],
   "source": [
    "l1[0:2] = l1[4:6]\n",
    "print(l1)"
   ]
  },
  {
   "cell_type": "markdown",
   "metadata": {},
   "source": [
    "Crucially, lists and tuples can contain *anything*. As with loops, there is no restriction on types, and things can be nested:"
   ]
  },
  {
   "cell_type": "code",
   "execution_count": 16,
   "metadata": {},
   "outputs": [
    {
     "name": "stdout",
     "output_type": "stream",
     "text": [
      "1.2\n",
      "a\n"
     ]
    }
   ],
   "source": [
    "l2 = [0, 1.2, \"hello\", [\"a\", 3, 4.5], (0, (1.1, 2.3, 4))]\n",
    "print(l2[1])\n",
    "print(l2[3][0])"
   ]
  },
  {
   "cell_type": "markdown",
   "metadata": {},
   "source": [
    "## Dictionaries"
   ]
  },
  {
   "cell_type": "markdown",
   "metadata": {},
   "source": [
    "Both lists and tuples are *ordered*: there are accessed by an integer giving there location in the sequence. This doesn't always make sense. Consider an algorithm which depends on parameters $\\omega, \\Gamma, N$. We want to keep the parameters together, but there's no logical order to them. Instead we can use a dictionary, which is an unordered Python container:"
   ]
  },
  {
   "cell_type": "code",
   "execution_count": 17,
   "metadata": {},
   "outputs": [
    {
     "name": "stdout",
     "output_type": "stream",
     "text": [
      "5.7\n"
     ]
    }
   ],
   "source": [
    "d1 = {\"omega\": 1.0, \"Gamma\": 5.7, \"N\": 100}\n",
    "print(d1[\"Gamma\"])"
   ]
  },
  {
   "cell_type": "markdown",
   "metadata": {},
   "source": [
    "As there is no order we access dictionaries using the *key*. To loop over a dictionary, we take advantage of Python's loose iteration rules:"
   ]
  },
  {
   "cell_type": "code",
   "execution_count": 18,
   "metadata": {},
   "outputs": [
    {
     "name": "stdout",
     "output_type": "stream",
     "text": [
      "Key is omega value is 1.0\n",
      "Key is Gamma value is 5.7\n",
      "Key is N value is 100\n"
     ]
    }
   ],
   "source": [
    "for key in d1:\n",
    "    print(\"Key is\", key, \"value is\", d1[key])"
   ]
  },
  {
   "cell_type": "markdown",
   "metadata": {},
   "source": [
    "There is a shortcut to allow you to get both key and value in one go:"
   ]
  },
  {
   "cell_type": "code",
   "execution_count": 19,
   "metadata": {},
   "outputs": [
    {
     "name": "stdout",
     "output_type": "stream",
     "text": [
      "Key is omega value is 1.0\n",
      "Key is Gamma value is 5.7\n",
      "Key is N value is 100\n"
     ]
    }
   ],
   "source": [
    "for key, value in d1.items():\n",
    "    print(\"Key is\", key, \"value is\", value)"
   ]
  },
  {
   "cell_type": "markdown",
   "metadata": {},
   "source": [
    "## Numpy arrays"
   ]
  },
  {
   "cell_type": "markdown",
   "metadata": {},
   "source": [
    "We've seen python's built-in lists for storing data, however for the `numpy` library contains the more powerful `array` datatype. Arrays are essentially a more powerful form of lists which make it easier to handle data. Most importantly, they allow us to apply operations to all elements of an array at once, rather than looping over the elements one-by-one.\n",
    "\n",
    "To see this, let's create a list and a numpy array, both containing the same data."
   ]
  },
  {
   "cell_type": "code",
   "execution_count": 20,
   "metadata": {
    "collapsed": true
   },
   "outputs": [],
   "source": [
    "import numpy"
   ]
  },
  {
   "cell_type": "code",
   "execution_count": 21,
   "metadata": {},
   "outputs": [
    {
     "name": "stdout",
     "output_type": "stream",
     "text": [
      "list l = [[1.0, 2.0, 3.0], [4.0, 5.0, 6.0], [7.0, 8.0, 9.0]]\n",
      "numpy array a = [[ 1.  2.  3.]\n",
      " [ 4.  5.  6.]\n",
      " [ 7.  8.  9.]]\n"
     ]
    }
   ],
   "source": [
    "# python list\n",
    "l = [[1., 2., 3.],\n",
    "     [4., 5., 6.],\n",
    "     [7., 8., 9.]]\n",
    "\n",
    "a = numpy.array([[1., 2., 3.],\n",
    "                 [4., 5., 6.],\n",
    "                 [7., 8., 9.]])\n",
    "\n",
    "print('list l = {}'.format(l))\n",
    "print('numpy array a = {}'.format(a))"
   ]
  },
  {
   "cell_type": "markdown",
   "metadata": {},
   "source": [
    "Accessing elements of numpy arrays is very similar to accessing elements of lists, but with slightly less typing. To access elements from an n-dimensional list, we have to use multiple square brackets, e.g. `l[0][4][7][8]`. For a numpy array, we separate the indices using a comma: `a[0, 4, 7, 8]`."
   ]
  },
  {
   "cell_type": "code",
   "execution_count": 22,
   "metadata": {},
   "outputs": [
    {
     "name": "stdout",
     "output_type": "stream",
     "text": [
      "6.0\n",
      "6.0\n"
     ]
    }
   ],
   "source": [
    "print(l[1][2])\n",
    "print(a[1,2])"
   ]
  },
  {
   "cell_type": "markdown",
   "metadata": {},
   "source": [
    "Let's say we now want to square every element of the array. For this 2d list, we would need a for loop:"
   ]
  },
  {
   "cell_type": "code",
   "execution_count": 23,
   "metadata": {},
   "outputs": [
    {
     "name": "stdout",
     "output_type": "stream",
     "text": [
      "[[1.0, 4.0, 9.0], [16.0, 25.0, 36.0], [49.0, 64.0, 81.0]]\n"
     ]
    }
   ],
   "source": [
    "import copy\n",
    "squared = copy.deepcopy(l)\n",
    "for i in range(3):\n",
    "    for j in range(3):\n",
    "        squared[i][j] = l[i][j]**2\n",
    "print(squared)"
   ]
  },
  {
   "cell_type": "markdown",
   "metadata": {},
   "source": [
    "Note that here we used the function `deepcopy` from the copy module the copy the list l. If we had simply used `squared = l`, when we the assigned the elements of `squared` new values, this would also have changed the values in `l`. This is in contrast to the simple variables we saw before, where changing the value of one will leave the values of others unchanged. \n",
    "\n",
    "For numpy arrays, applying operations across the entire array is much simpler:"
   ]
  },
  {
   "cell_type": "code",
   "execution_count": 24,
   "metadata": {},
   "outputs": [
    {
     "name": "stdout",
     "output_type": "stream",
     "text": [
      "[[  1.   4.   9.]\n",
      " [ 16.  25.  36.]\n",
      " [ 49.  64.  81.]]\n"
     ]
    }
   ],
   "source": [
    "print(a**2)"
   ]
  },
  {
   "cell_type": "markdown",
   "metadata": {},
   "source": [
    "Numpy has a range of array manipulation routines for rearranging and manipulating elements, such as those below."
   ]
  },
  {
   "cell_type": "code",
   "execution_count": 25,
   "metadata": {},
   "outputs": [
    {
     "data": {
      "text/plain": [
       "array([[ 1.,  4.,  7.],\n",
       "       [ 2.,  5.,  8.],\n",
       "       [ 3.,  6.,  9.]])"
      ]
     },
     "execution_count": 25,
     "metadata": {},
     "output_type": "execute_result"
    }
   ],
   "source": [
    "# transpose\n",
    "a.T"
   ]
  },
  {
   "cell_type": "code",
   "execution_count": 26,
   "metadata": {},
   "outputs": [
    {
     "data": {
      "text/plain": [
       "array([[ 1.,  2.,  3.,  4.,  5.,  6.,  7.,  8.,  9.]])"
      ]
     },
     "execution_count": 26,
     "metadata": {},
     "output_type": "execute_result"
    }
   ],
   "source": [
    "# reshape\n",
    "numpy.reshape(a, (1,9))"
   ]
  },
  {
   "cell_type": "code",
   "execution_count": 27,
   "metadata": {},
   "outputs": [
    {
     "data": {
      "text/plain": [
       "array([[ 1.,  2.,  3.,  1.,  2.,  3.,  1.,  2.,  3.],\n",
       "       [ 4.,  5.,  6.,  4.,  5.,  6.,  4.,  5.,  6.],\n",
       "       [ 7.,  8.,  9.,  7.,  8.,  9.,  7.,  8.,  9.]])"
      ]
     },
     "execution_count": 27,
     "metadata": {},
     "output_type": "execute_result"
    }
   ],
   "source": [
    "# stack arrays horizontally\n",
    "numpy.hstack((a,a,a))"
   ]
  },
  {
   "cell_type": "markdown",
   "metadata": {},
   "source": [
    "If you've used Matlab before, you may be familiar with logical indexing. This is a way of accessing elements of a array that satisfy some criteria, e.g. all the elements which are greater than 0. We can also do this with numpy arrays using boolean array indexing:"
   ]
  },
  {
   "cell_type": "code",
   "execution_count": 28,
   "metadata": {},
   "outputs": [
    {
     "data": {
      "text/plain": [
       "array([ 6.,  7.,  8.,  9.])"
      ]
     },
     "execution_count": 28,
     "metadata": {},
     "output_type": "execute_result"
    }
   ],
   "source": [
    "a[a > 5]"
   ]
  },
  {
   "cell_type": "markdown",
   "metadata": {},
   "source": [
    "# Exercise"
   ]
  },
  {
   "cell_type": "markdown",
   "metadata": {},
   "source": [
    "Do the bubble sort and counting sort exercise."
   ]
  }
 ],
 "metadata": {
  "kernelspec": {
   "display_name": "Python 3",
   "language": "python",
   "name": "python3"
  },
  "language_info": {
   "codemirror_mode": {
    "name": "ipython",
    "version": 3
   },
   "file_extension": ".py",
   "mimetype": "text/x-python",
   "name": "python",
   "nbconvert_exporter": "python",
   "pygments_lexer": "ipython3",
   "version": "3.6.1"
  },
  "nbconvert": {
   "title": "Loops and functions"
  }
 },
 "nbformat": 4,
 "nbformat_minor": 2
}
