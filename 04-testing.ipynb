{
 "cells": [
  {
   "cell_type": "markdown",
   "metadata": {},
   "source": [
    "# Testing"
   ]
  },
  {
   "cell_type": "markdown",
   "metadata": {},
   "source": [
    "How do we know if our code is working correctly? It is not when the code runs and returns some value: as seen above, there may be times where it makes sense to stop the code even when it is correct, as it is being used incorrectly. We need to test the code to check that it works.\n",
    "\n",
    "*Unit testing* is the idea of writing many small tests that check if simple cases are behaving correctly. Rather than trying to *prove* that the code is correct in all cases (which could be very hard), we check that it is correct in a number of tightly controlled cases (which should be more straightforward). If we later find a problem with the code, we add a test to cover that case."
   ]
  },
  {
   "cell_type": "markdown",
   "metadata": {},
   "source": [
    "##### Teaching note"
   ]
  },
  {
   "cell_type": "markdown",
   "metadata": {},
   "source": [
    "We are intending to use unit tests to *automatically mark* student submissions of weekly work. Knowing how this works in outline is going to be needed to interpret the errors the students see and ask questions about.\n",
    "\n",
    "At least to start, we are *not* intending to use these tests on coursework submissions."
   ]
  },
  {
   "cell_type": "markdown",
   "metadata": {},
   "source": [
    "We will write a simple function that divides two numbers:"
   ]
  },
  {
   "cell_type": "code",
   "execution_count": 2,
   "metadata": {
    "collapsed": true
   },
   "outputs": [],
   "source": [
    "def divide(x, y):\n",
    "    \"\"\"\n",
    "    Divide two numbers\n",
    "    \n",
    "    Parameters\n",
    "    ----------\n",
    "    \n",
    "    x : float\n",
    "        Numerator\n",
    "    y : float\n",
    "        Denominator\n",
    "    \n",
    "    Returns\n",
    "    -------\n",
    "    \n",
    "    x / y : float\n",
    "    \"\"\"\n",
    "    return x / y"
   ]
  },
  {
   "cell_type": "markdown",
   "metadata": {},
   "source": [
    "For now we can play with this in the console.\n",
    "\n",
    "We want to check that it does the \"right thing\". How much do we need to check?\n",
    "\n",
    "Check integers:"
   ]
  },
  {
   "cell_type": "code",
   "execution_count": 3,
   "metadata": {},
   "outputs": [
    {
     "name": "stdout",
     "output_type": "stream",
     "text": [
      "2.0\n"
     ]
    }
   ],
   "source": [
    "print(divide(4,2))"
   ]
  },
  {
   "cell_type": "markdown",
   "metadata": {},
   "source": [
    "Check obvious fractions:"
   ]
  },
  {
   "cell_type": "code",
   "execution_count": 4,
   "metadata": {},
   "outputs": [
    {
     "name": "stdout",
     "output_type": "stream",
     "text": [
      "1.5\n"
     ]
    }
   ],
   "source": [
    "print(divide(3,2))"
   ]
  },
  {
   "cell_type": "markdown",
   "metadata": {},
   "source": [
    "Does $a^7 / a = a^6$?"
   ]
  },
  {
   "cell_type": "code",
   "execution_count": 5,
   "metadata": {},
   "outputs": [
    {
     "name": "stdout",
     "output_type": "stream",
     "text": [
      "3.5309450437774568 3.5309450437774568\n"
     ]
    }
   ],
   "source": [
    "a = 1.234\n",
    "print(divide(a**7, a), a**6)"
   ]
  },
  {
   "cell_type": "markdown",
   "metadata": {},
   "source": [
    "What happens if you divide by zero? (What should happen?)"
   ]
  },
  {
   "cell_type": "code",
   "execution_count": 6,
   "metadata": {},
   "outputs": [
    {
     "ename": "ZeroDivisionError",
     "evalue": "division by zero",
     "output_type": "error",
     "traceback": [
      "\u001b[0;31m---------------------------------------------------------------------------\u001b[0m",
      "\u001b[0;31mZeroDivisionError\u001b[0m                         Traceback (most recent call last)",
      "\u001b[0;32m<ipython-input-6-da0caa7f6bf5>\u001b[0m in \u001b[0;36m<module>\u001b[0;34m()\u001b[0m\n\u001b[0;32m----> 1\u001b[0;31m \u001b[0mprint\u001b[0m\u001b[0;34m(\u001b[0m\u001b[0mdivide\u001b[0m\u001b[0;34m(\u001b[0m\u001b[0;36m1\u001b[0m\u001b[0;34m,\u001b[0m \u001b[0;36m0\u001b[0m\u001b[0;34m)\u001b[0m\u001b[0;34m)\u001b[0m\u001b[0;34m\u001b[0m\u001b[0m\n\u001b[0m",
      "\u001b[0;32m<ipython-input-2-255c1de61e50>\u001b[0m in \u001b[0;36mdivide\u001b[0;34m(x, y)\u001b[0m\n\u001b[1;32m     16\u001b[0m     \u001b[0mx\u001b[0m \u001b[0;34m/\u001b[0m \u001b[0my\u001b[0m \u001b[0;34m:\u001b[0m \u001b[0mfloat\u001b[0m\u001b[0;34m\u001b[0m\u001b[0m\n\u001b[1;32m     17\u001b[0m     \"\"\"\n\u001b[0;32m---> 18\u001b[0;31m     \u001b[0;32mreturn\u001b[0m \u001b[0mx\u001b[0m \u001b[0;34m/\u001b[0m \u001b[0my\u001b[0m\u001b[0;34m\u001b[0m\u001b[0m\n\u001b[0m",
      "\u001b[0;31mZeroDivisionError\u001b[0m: division by zero"
     ]
    }
   ],
   "source": [
    "print(divide(1, 0))"
   ]
  },
  {
   "cell_type": "markdown",
   "metadata": {},
   "source": [
    "What happens if you divide by a really large number?"
   ]
  },
  {
   "cell_type": "code",
   "execution_count": 8,
   "metadata": {},
   "outputs": [
    {
     "name": "stdout",
     "output_type": "stream",
     "text": [
      "0.0\n"
     ]
    }
   ],
   "source": [
    "print(divide(1, 1e1000))"
   ]
  },
  {
   "cell_type": "markdown",
   "metadata": {},
   "source": [
    "Each of these tests has their uses and may show different potential problems. What counts as \"correct\" depends on how you want your code to handle certain situations.\n",
    "\n",
    "If are function didn't do what we wanted on one of these tests then we'd have to alter it and test again. This can be error prone, so it's better to write functions. We want these functions to complain loudly if something is wrong, but be quiet if all is well. To do this we can use the `assert` statement:"
   ]
  },
  {
   "cell_type": "code",
   "execution_count": 9,
   "metadata": {
    "collapsed": true
   },
   "outputs": [],
   "source": [
    "def test_integer_division():\n",
    "    assert(divide(4, 2) == 2)"
   ]
  },
  {
   "cell_type": "code",
   "execution_count": 11,
   "metadata": {},
   "outputs": [],
   "source": [
    "test_integer_division()"
   ]
  },
  {
   "cell_type": "markdown",
   "metadata": {},
   "source": [
    "We see that nothing happened, as we wanted."
   ]
  },
  {
   "cell_type": "markdown",
   "metadata": {},
   "source": [
    "## Formalizing tests\n",
    "\n",
    "This small set of tests covers most of the cases we are concerned with. However, by this point it's getting hard to remember\n",
    "\n",
    "1. what each line is actually testing, and\n",
    "2. what the correct value is meant to be.\n",
    "\n",
    "To formalize this, we write each test as a small function that contains this information for us. Let's start with the $x^2 - 1 = 0$ case where the roots are $\\pm 1$:"
   ]
  },
  {
   "cell_type": "code",
   "execution_count": 29,
   "metadata": {
    "collapsed": true
   },
   "outputs": [],
   "source": [
    "from numpy.testing import assert_equal, assert_allclose\n",
    "\n",
    "def test_real_distinct():\n",
    "    \"\"\"\n",
    "    Test that the roots of x^2 - 1 = 0 are \\pm 1.\n",
    "    \"\"\"\n",
    "    \n",
    "    roots = (1.0, -1.0)\n",
    "    assert_equal(real_quadratic_roots(1, 0, -1), roots,\n",
    "                 err_msg=\"Testing x^2-1=0; roots should be 1 and -1.\")"
   ]
  },
  {
   "cell_type": "code",
   "execution_count": 30,
   "metadata": {},
   "outputs": [],
   "source": [
    "test_real_distinct()"
   ]
  },
  {
   "cell_type": "markdown",
   "metadata": {},
   "source": [
    "What this function does is checks that the results of the function call match the expected value, here stored in `roots`. If it didn't match the expected value, it would raise an exception:"
   ]
  },
  {
   "cell_type": "code",
   "execution_count": 31,
   "metadata": {},
   "outputs": [
    {
     "ename": "AssertionError",
     "evalue": "\nItems are not equal:\nitem=1\nTesting x^2-1=0; roots should be 1 and 1. So this test should fail\n ACTUAL: -1.0\n DESIRED: 1.0",
     "output_type": "error",
     "traceback": [
      "\u001b[0;31m---------------------------------------------------------------------------\u001b[0m",
      "\u001b[0;31mAssertionError\u001b[0m                            Traceback (most recent call last)",
      "\u001b[0;32m<ipython-input-31-ccb1cf91e65e>\u001b[0m in \u001b[0;36m<module>\u001b[0;34m()\u001b[0m\n\u001b[1;32m      9\u001b[0m                  \" So this test should fail\")\n\u001b[1;32m     10\u001b[0m \u001b[0;34m\u001b[0m\u001b[0m\n\u001b[0;32m---> 11\u001b[0;31m \u001b[0mtest_should_fail\u001b[0m\u001b[0;34m(\u001b[0m\u001b[0;34m)\u001b[0m\u001b[0;34m\u001b[0m\u001b[0m\n\u001b[0m",
      "\u001b[0;32m<ipython-input-31-ccb1cf91e65e>\u001b[0m in \u001b[0;36mtest_should_fail\u001b[0;34m()\u001b[0m\n\u001b[1;32m      6\u001b[0m     \u001b[0mroots\u001b[0m \u001b[0;34m=\u001b[0m \u001b[0;34m(\u001b[0m\u001b[0;36m1.0\u001b[0m\u001b[0;34m,\u001b[0m \u001b[0;36m1.0\u001b[0m\u001b[0;34m)\u001b[0m\u001b[0;34m\u001b[0m\u001b[0m\n\u001b[1;32m      7\u001b[0m     assert_equal(real_quadratic_roots(1, 0, -1), roots,\n\u001b[0;32m----> 8\u001b[0;31m                  \u001b[0merr_msg\u001b[0m\u001b[0;34m=\u001b[0m\u001b[0;34m\"Testing x^2-1=0; roots should be 1 and 1.\"\u001b[0m\u001b[0;34m\u001b[0m\u001b[0m\n\u001b[0m\u001b[1;32m      9\u001b[0m                  \" So this test should fail\")\n\u001b[1;32m     10\u001b[0m \u001b[0;34m\u001b[0m\u001b[0m\n",
      "\u001b[0;32m/Users/ih3/anaconda/lib/python3.4/site-packages/numpy/testing/utils.py\u001b[0m in \u001b[0;36massert_equal\u001b[0;34m(actual, desired, err_msg, verbose)\u001b[0m\n\u001b[1;32m    288\u001b[0m         \u001b[0massert_equal\u001b[0m\u001b[0;34m(\u001b[0m\u001b[0mlen\u001b[0m\u001b[0;34m(\u001b[0m\u001b[0mactual\u001b[0m\u001b[0;34m)\u001b[0m\u001b[0;34m,\u001b[0m \u001b[0mlen\u001b[0m\u001b[0;34m(\u001b[0m\u001b[0mdesired\u001b[0m\u001b[0;34m)\u001b[0m\u001b[0;34m,\u001b[0m \u001b[0merr_msg\u001b[0m\u001b[0;34m,\u001b[0m \u001b[0mverbose\u001b[0m\u001b[0;34m)\u001b[0m\u001b[0;34m\u001b[0m\u001b[0m\n\u001b[1;32m    289\u001b[0m         \u001b[0;32mfor\u001b[0m \u001b[0mk\u001b[0m \u001b[0;32min\u001b[0m \u001b[0mrange\u001b[0m\u001b[0;34m(\u001b[0m\u001b[0mlen\u001b[0m\u001b[0;34m(\u001b[0m\u001b[0mdesired\u001b[0m\u001b[0;34m)\u001b[0m\u001b[0;34m)\u001b[0m\u001b[0;34m:\u001b[0m\u001b[0;34m\u001b[0m\u001b[0m\n\u001b[0;32m--> 290\u001b[0;31m             \u001b[0massert_equal\u001b[0m\u001b[0;34m(\u001b[0m\u001b[0mactual\u001b[0m\u001b[0;34m[\u001b[0m\u001b[0mk\u001b[0m\u001b[0;34m]\u001b[0m\u001b[0;34m,\u001b[0m \u001b[0mdesired\u001b[0m\u001b[0;34m[\u001b[0m\u001b[0mk\u001b[0m\u001b[0;34m]\u001b[0m\u001b[0;34m,\u001b[0m \u001b[0;34m'item=%r\\n%s'\u001b[0m \u001b[0;34m%\u001b[0m \u001b[0;34m(\u001b[0m\u001b[0mk\u001b[0m\u001b[0;34m,\u001b[0m \u001b[0merr_msg\u001b[0m\u001b[0;34m)\u001b[0m\u001b[0;34m,\u001b[0m \u001b[0mverbose\u001b[0m\u001b[0;34m)\u001b[0m\u001b[0;34m\u001b[0m\u001b[0m\n\u001b[0m\u001b[1;32m    291\u001b[0m         \u001b[0;32mreturn\u001b[0m\u001b[0;34m\u001b[0m\u001b[0m\n\u001b[1;32m    292\u001b[0m     \u001b[0;32mfrom\u001b[0m \u001b[0mnumpy\u001b[0m\u001b[0;34m.\u001b[0m\u001b[0mcore\u001b[0m \u001b[0;32mimport\u001b[0m \u001b[0mndarray\u001b[0m\u001b[0;34m,\u001b[0m \u001b[0misscalar\u001b[0m\u001b[0;34m,\u001b[0m \u001b[0msignbit\u001b[0m\u001b[0;34m\u001b[0m\u001b[0m\n",
      "\u001b[0;32m/Users/ih3/anaconda/lib/python3.4/site-packages/numpy/testing/utils.py\u001b[0m in \u001b[0;36massert_equal\u001b[0;34m(actual, desired, err_msg, verbose)\u001b[0m\n\u001b[1;32m    352\u001b[0m     \u001b[0;31m# Explicitly use __eq__ for comparison, ticket #2552\u001b[0m\u001b[0;34m\u001b[0m\u001b[0;34m\u001b[0m\u001b[0m\n\u001b[1;32m    353\u001b[0m     \u001b[0;32mif\u001b[0m \u001b[0;32mnot\u001b[0m \u001b[0;34m(\u001b[0m\u001b[0mdesired\u001b[0m \u001b[0;34m==\u001b[0m \u001b[0mactual\u001b[0m\u001b[0;34m)\u001b[0m\u001b[0;34m:\u001b[0m\u001b[0;34m\u001b[0m\u001b[0m\n\u001b[0;32m--> 354\u001b[0;31m         \u001b[0;32mraise\u001b[0m \u001b[0mAssertionError\u001b[0m\u001b[0;34m(\u001b[0m\u001b[0mmsg\u001b[0m\u001b[0;34m)\u001b[0m\u001b[0;34m\u001b[0m\u001b[0m\n\u001b[0m\u001b[1;32m    355\u001b[0m \u001b[0;34m\u001b[0m\u001b[0m\n\u001b[1;32m    356\u001b[0m \u001b[0;32mdef\u001b[0m \u001b[0mprint_assert_equal\u001b[0m\u001b[0;34m(\u001b[0m\u001b[0mtest_string\u001b[0m\u001b[0;34m,\u001b[0m \u001b[0mactual\u001b[0m\u001b[0;34m,\u001b[0m \u001b[0mdesired\u001b[0m\u001b[0;34m)\u001b[0m\u001b[0;34m:\u001b[0m\u001b[0;34m\u001b[0m\u001b[0m\n",
      "\u001b[0;31mAssertionError\u001b[0m: \nItems are not equal:\nitem=1\nTesting x^2-1=0; roots should be 1 and 1. So this test should fail\n ACTUAL: -1.0\n DESIRED: 1.0"
     ]
    }
   ],
   "source": [
    "def test_should_fail():\n",
    "    \"\"\"\n",
    "    Comparing the roots of x^2 - 1 = 0 to (1, 1), which should fail.\n",
    "    \"\"\"\n",
    "    \n",
    "    roots = (1.0, 1.0)\n",
    "    assert_equal(real_quadratic_roots(1, 0, -1), roots,\n",
    "                 err_msg=\"Testing x^2-1=0; roots should be 1 and 1.\"\n",
    "                 \" So this test should fail\")\n",
    "\n",
    "test_should_fail()"
   ]
  },
  {
   "cell_type": "markdown",
   "metadata": {},
   "source": [
    "Testing that one floating point number equals another can be dangerous. Consider $x^2 - 2 x + (1 - 10^{-10}) = 0$ with roots $1.1 \\pm 10^{-5} )$:"
   ]
  },
  {
   "cell_type": "code",
   "execution_count": 32,
   "metadata": {},
   "outputs": [
    {
     "ename": "AssertionError",
     "evalue": "\nItems are not equal:\nitem=0\nTesting x^2-2x+(1-1e-10)=0; roots should be 1 +- 1e-5.\n ACTUAL: 1.0000100000004137\n DESIRED: 1.00001",
     "output_type": "error",
     "traceback": [
      "\u001b[0;31m---------------------------------------------------------------------------\u001b[0m",
      "\u001b[0;31mAssertionError\u001b[0m                            Traceback (most recent call last)",
      "\u001b[0;32m<ipython-input-32-e01bced6ccc9>\u001b[0m in \u001b[0;36m<module>\u001b[0;34m()\u001b[0m\n\u001b[1;32m     10\u001b[0m                  err_msg=\"Testing x^2-2x+(1-1e-10)=0; roots should be 1 +- 1e-5.\")\n\u001b[1;32m     11\u001b[0m \u001b[0;34m\u001b[0m\u001b[0m\n\u001b[0;32m---> 12\u001b[0;31m \u001b[0mtest_real_distinct_irrational\u001b[0m\u001b[0;34m(\u001b[0m\u001b[0;34m)\u001b[0m\u001b[0;34m\u001b[0m\u001b[0m\n\u001b[0m",
      "\u001b[0;32m<ipython-input-32-e01bced6ccc9>\u001b[0m in \u001b[0;36mtest_real_distinct_irrational\u001b[0;34m()\u001b[0m\n\u001b[1;32m      8\u001b[0m     \u001b[0mroots\u001b[0m \u001b[0;34m=\u001b[0m \u001b[0;34m(\u001b[0m\u001b[0;36m1\u001b[0m \u001b[0;34m+\u001b[0m \u001b[0;36m1e-5\u001b[0m\u001b[0;34m,\u001b[0m \u001b[0;36m1\u001b[0m \u001b[0;34m-\u001b[0m \u001b[0;36m1e-5\u001b[0m\u001b[0;34m)\u001b[0m\u001b[0;34m\u001b[0m\u001b[0m\n\u001b[1;32m      9\u001b[0m     assert_equal(real_quadratic_roots(1, -2.0, 1.0 - 1e-10), roots,\n\u001b[0;32m---> 10\u001b[0;31m                  err_msg=\"Testing x^2-2x+(1-1e-10)=0; roots should be 1 +- 1e-5.\")\n\u001b[0m\u001b[1;32m     11\u001b[0m \u001b[0;34m\u001b[0m\u001b[0m\n\u001b[1;32m     12\u001b[0m \u001b[0mtest_real_distinct_irrational\u001b[0m\u001b[0;34m(\u001b[0m\u001b[0;34m)\u001b[0m\u001b[0;34m\u001b[0m\u001b[0m\n",
      "\u001b[0;32m/Users/ih3/anaconda/lib/python3.4/site-packages/numpy/testing/utils.py\u001b[0m in \u001b[0;36massert_equal\u001b[0;34m(actual, desired, err_msg, verbose)\u001b[0m\n\u001b[1;32m    288\u001b[0m         \u001b[0massert_equal\u001b[0m\u001b[0;34m(\u001b[0m\u001b[0mlen\u001b[0m\u001b[0;34m(\u001b[0m\u001b[0mactual\u001b[0m\u001b[0;34m)\u001b[0m\u001b[0;34m,\u001b[0m \u001b[0mlen\u001b[0m\u001b[0;34m(\u001b[0m\u001b[0mdesired\u001b[0m\u001b[0;34m)\u001b[0m\u001b[0;34m,\u001b[0m \u001b[0merr_msg\u001b[0m\u001b[0;34m,\u001b[0m \u001b[0mverbose\u001b[0m\u001b[0;34m)\u001b[0m\u001b[0;34m\u001b[0m\u001b[0m\n\u001b[1;32m    289\u001b[0m         \u001b[0;32mfor\u001b[0m \u001b[0mk\u001b[0m \u001b[0;32min\u001b[0m \u001b[0mrange\u001b[0m\u001b[0;34m(\u001b[0m\u001b[0mlen\u001b[0m\u001b[0;34m(\u001b[0m\u001b[0mdesired\u001b[0m\u001b[0;34m)\u001b[0m\u001b[0;34m)\u001b[0m\u001b[0;34m:\u001b[0m\u001b[0;34m\u001b[0m\u001b[0m\n\u001b[0;32m--> 290\u001b[0;31m             \u001b[0massert_equal\u001b[0m\u001b[0;34m(\u001b[0m\u001b[0mactual\u001b[0m\u001b[0;34m[\u001b[0m\u001b[0mk\u001b[0m\u001b[0;34m]\u001b[0m\u001b[0;34m,\u001b[0m \u001b[0mdesired\u001b[0m\u001b[0;34m[\u001b[0m\u001b[0mk\u001b[0m\u001b[0;34m]\u001b[0m\u001b[0;34m,\u001b[0m \u001b[0;34m'item=%r\\n%s'\u001b[0m \u001b[0;34m%\u001b[0m \u001b[0;34m(\u001b[0m\u001b[0mk\u001b[0m\u001b[0;34m,\u001b[0m \u001b[0merr_msg\u001b[0m\u001b[0;34m)\u001b[0m\u001b[0;34m,\u001b[0m \u001b[0mverbose\u001b[0m\u001b[0;34m)\u001b[0m\u001b[0;34m\u001b[0m\u001b[0m\n\u001b[0m\u001b[1;32m    291\u001b[0m         \u001b[0;32mreturn\u001b[0m\u001b[0;34m\u001b[0m\u001b[0m\n\u001b[1;32m    292\u001b[0m     \u001b[0;32mfrom\u001b[0m \u001b[0mnumpy\u001b[0m\u001b[0;34m.\u001b[0m\u001b[0mcore\u001b[0m \u001b[0;32mimport\u001b[0m \u001b[0mndarray\u001b[0m\u001b[0;34m,\u001b[0m \u001b[0misscalar\u001b[0m\u001b[0;34m,\u001b[0m \u001b[0msignbit\u001b[0m\u001b[0;34m\u001b[0m\u001b[0m\n",
      "\u001b[0;32m/Users/ih3/anaconda/lib/python3.4/site-packages/numpy/testing/utils.py\u001b[0m in \u001b[0;36massert_equal\u001b[0;34m(actual, desired, err_msg, verbose)\u001b[0m\n\u001b[1;32m    352\u001b[0m     \u001b[0;31m# Explicitly use __eq__ for comparison, ticket #2552\u001b[0m\u001b[0;34m\u001b[0m\u001b[0;34m\u001b[0m\u001b[0m\n\u001b[1;32m    353\u001b[0m     \u001b[0;32mif\u001b[0m \u001b[0;32mnot\u001b[0m \u001b[0;34m(\u001b[0m\u001b[0mdesired\u001b[0m \u001b[0;34m==\u001b[0m \u001b[0mactual\u001b[0m\u001b[0;34m)\u001b[0m\u001b[0;34m:\u001b[0m\u001b[0;34m\u001b[0m\u001b[0m\n\u001b[0;32m--> 354\u001b[0;31m         \u001b[0;32mraise\u001b[0m \u001b[0mAssertionError\u001b[0m\u001b[0;34m(\u001b[0m\u001b[0mmsg\u001b[0m\u001b[0;34m)\u001b[0m\u001b[0;34m\u001b[0m\u001b[0m\n\u001b[0m\u001b[1;32m    355\u001b[0m \u001b[0;34m\u001b[0m\u001b[0m\n\u001b[1;32m    356\u001b[0m \u001b[0;32mdef\u001b[0m \u001b[0mprint_assert_equal\u001b[0m\u001b[0;34m(\u001b[0m\u001b[0mtest_string\u001b[0m\u001b[0;34m,\u001b[0m \u001b[0mactual\u001b[0m\u001b[0;34m,\u001b[0m \u001b[0mdesired\u001b[0m\u001b[0;34m)\u001b[0m\u001b[0;34m:\u001b[0m\u001b[0;34m\u001b[0m\u001b[0m\n",
      "\u001b[0;31mAssertionError\u001b[0m: \nItems are not equal:\nitem=0\nTesting x^2-2x+(1-1e-10)=0; roots should be 1 +- 1e-5.\n ACTUAL: 1.0000100000004137\n DESIRED: 1.00001"
     ]
    }
   ],
   "source": [
    "from math import sqrt\n",
    "\n",
    "def test_real_distinct_irrational():\n",
    "    \"\"\"\n",
    "    Test that the roots of x^2 - 2 x + (1 - 10**(-10)) = 0 are 1 \\pm 1e-5.\n",
    "    \"\"\"\n",
    "    \n",
    "    roots = (1 + 1e-5, 1 - 1e-5)\n",
    "    assert_equal(real_quadratic_roots(1, -2.0, 1.0 - 1e-10), roots,\n",
    "                 err_msg=\"Testing x^2-2x+(1-1e-10)=0; roots should be 1 +- 1e-5.\")\n",
    "    \n",
    "test_real_distinct_irrational()"
   ]
  },
  {
   "cell_type": "markdown",
   "metadata": {},
   "source": [
    "We see that the solutions match to the first 14 or so digits, but this isn't enough for them to be *exactly* the same. In this case, and in most cases using floating point numbers, we want the result to be \"close enough\": to match the expected precision. There is an assertion for this as well:"
   ]
  },
  {
   "cell_type": "code",
   "execution_count": 33,
   "metadata": {
    "collapsed": true
   },
   "outputs": [],
   "source": [
    "from math import sqrt\n",
    "\n",
    "def test_real_distinct_irrational():\n",
    "    \"\"\"\n",
    "    Test that the roots of x^2 - 2 x + (1 - 10**(-10)) = 0 are 1 \\pm 1e-5.\n",
    "    \"\"\"\n",
    "    \n",
    "    roots = (1 + 1e-5, 1 - 1e-5)\n",
    "    assert_allclose(real_quadratic_roots(1, -2.0, 1.0 - 1e-10), roots,\n",
    "                 err_msg=\"Testing x^2-2x+(1-1e-10)=0; roots should be 1 +- 1e-5.\")\n",
    "    \n",
    "test_real_distinct_irrational()"
   ]
  },
  {
   "cell_type": "markdown",
   "metadata": {},
   "source": [
    "The `assert_allclose` statement takes options controlling the precision of our test.\n",
    "\n",
    "We can now write out all our tests:"
   ]
  },
  {
   "cell_type": "code",
   "execution_count": 34,
   "metadata": {},
   "outputs": [],
   "source": [
    "from math import sqrt\n",
    "from numpy.testing import assert_equal, assert_allclose\n",
    "\n",
    "def test_no_roots():\n",
    "    \"\"\"\n",
    "    Test that the roots of x^2 + 1 = 0 are not real.\n",
    "    \"\"\"\n",
    "    \n",
    "    roots = None\n",
    "    assert_equal(real_quadratic_roots(1, 0, 1), roots,\n",
    "                 err_msg=\"Testing x^2+1=0; no real roots.\")\n",
    "\n",
    "def test_zero_roots():\n",
    "    \"\"\"\n",
    "    Test that the roots of x^2 = 0 are both zero.\n",
    "    \"\"\"\n",
    "    \n",
    "    roots = (0, 0)\n",
    "    assert_equal(real_quadratic_roots(1, 0, 0), roots,\n",
    "                 err_msg=\"Testing x^2=0; should both be zero.\")\n",
    "\n",
    "def test_real_distinct():\n",
    "    \"\"\"\n",
    "    Test that the roots of x^2 - 1 = 0 are \\pm 1.\n",
    "    \"\"\"\n",
    "    \n",
    "    roots = (1.0, -1.0)\n",
    "    assert_equal(real_quadratic_roots(1, 0, -1), roots,\n",
    "                 err_msg=\"Testing x^2-1=0; roots should be 1 and -1.\")\n",
    "    \n",
    "def test_real_distinct_irrational():\n",
    "    \"\"\"\n",
    "    Test that the roots of x^2 - 2 x + (1 - 10**(-10)) = 0 are 1 \\pm 1e-5.\n",
    "    \"\"\"\n",
    "    \n",
    "    roots = (1 + 1e-5, 1 - 1e-5)\n",
    "    assert_allclose(real_quadratic_roots(1, -2.0, 1.0 - 1e-10), roots,\n",
    "                 err_msg=\"Testing x^2-2x+(1-1e-10)=0; roots should be 1 +- 1e-5.\")\n",
    "    \n",
    "def test_real_linear_degeneracy():\n",
    "    \"\"\"\n",
    "    Test that the root of x + 1 = 0 is -1.\n",
    "    \"\"\"\n",
    "    \n",
    "    root = -1.0\n",
    "    assert_equal(real_quadratic_roots(0, 1, 1), root,\n",
    "                 err_msg=\"Testing x+1=0; root should be -1.\")"
   ]
  },
  {
   "cell_type": "code",
   "execution_count": 35,
   "metadata": {},
   "outputs": [],
   "source": [
    "test_no_roots()\n",
    "test_zero_roots()\n",
    "test_real_distinct()\n",
    "test_real_distinct_irrational()\n",
    "test_real_linear_degeneracy()"
   ]
  },
  {
   "cell_type": "markdown",
   "metadata": {},
   "source": [
    "## `py.test`\n",
    "\n",
    "We now have a set of tests - a *testsuite*, as it is sometimes called - encoded in functions, with meaningful names, which give useful error messages if the test fails. Every time the code is changed, we want to re-run all the tests to ensure that our change has not broken the code. This can be tedious. A better way would be to run a single command that runs all tests. `pytest` is that command.\n",
    "\n",
    "The easiest way to use it is to put all tests in the same file as the function being tested. So, create a file `quadratic.py` containing\n",
    "\n",
    "```python\n",
    "from math import sqrt\n",
    "from numpy.testing import assert_equal, assert_allclose\n",
    "    \n",
    "def real_quadratic_roots(a, b, c):\n",
    "    \"\"\"\n",
    "    Find the real roots of the quadratic equation a x^2 + b x + c = 0, if they exist.\n",
    "    \n",
    "    Parameters\n",
    "    ----------\n",
    "    \n",
    "    a : float\n",
    "        Coefficient of x^2\n",
    "    b : float\n",
    "        Coefficient of x^1\n",
    "    c : float\n",
    "        Coefficient of x^0\n",
    "        \n",
    "    Returns\n",
    "    -------\n",
    "    \n",
    "    roots : tuple or float or None\n",
    "        The root(s) (two if a genuine quadratic, one if linear, None otherwise)\n",
    "        \n",
    "    Raises\n",
    "    ------\n",
    "    \n",
    "    NotImplementedError\n",
    "        If the equation has trivial a and b coefficients, so isn't solvable.\n",
    "    \"\"\"\n",
    "    \n",
    "    discriminant = b**2 - 4.0*a*c\n",
    "    if discriminant < 0.0:\n",
    "        return None\n",
    "    \n",
    "    if a == 0:\n",
    "        if b == 0:\n",
    "            raise NotImplementedError(\"Cannot solve quadratic with both a\"\n",
    "                                      \" and b coefficients equal to 0.\")\n",
    "        else:\n",
    "            return -c / b\n",
    "    \n",
    "    x_plus = (-b + sqrt(discriminant)) / (2.0*a)\n",
    "    x_minus = (-b - sqrt(discriminant)) / (2.0*a)\n",
    "    \n",
    "    return x_plus, x_minus\n",
    "\n",
    "def test_no_roots():\n",
    "    \"\"\"\n",
    "    Test that the roots of x^2 + 1 = 0 are not real.\n",
    "    \"\"\"\n",
    "    \n",
    "    roots = None\n",
    "    assert_equal(real_quadratic_roots(1, 0, 1), roots,\n",
    "                 err_msg=\"Testing x^2+1=0; no real roots.\")\n",
    "\n",
    "def test_zero_roots():\n",
    "    \"\"\"\n",
    "    Test that the roots of x^2 = 0 are both zero.\n",
    "    \"\"\"\n",
    "    \n",
    "    roots = (0, 0)\n",
    "    assert_equal(real_quadratic_roots(1, 0, 0), roots,\n",
    "                 err_msg=\"Testing x^2=0; should both be zero.\")\n",
    "\n",
    "def test_real_distinct():\n",
    "    \"\"\"\n",
    "    Test that the roots of x^2 - 1 = 0 are \\pm 1.\n",
    "    \"\"\"\n",
    "    \n",
    "    roots = (1.0, -1.0)\n",
    "    assert_equal(real_quadratic_roots(1, 0, -1), roots,\n",
    "                 err_msg=\"Testing x^2-1=0; roots should be 1 and -1.\")\n",
    "    \n",
    "def test_real_distinct_irrational():\n",
    "    \"\"\"\n",
    "    Test that the roots of x^2 - 2 x + (1 - 10**(-10)) = 0 are 1 \\pm 1e-5.\n",
    "    \"\"\"\n",
    "    \n",
    "    roots = (1 + 1e-5, 1 - 1e-5)\n",
    "    assert_allclose(real_quadratic_roots(1, -2.0, 1.0 - 1e-10), roots,\n",
    "                 err_msg=\"Testing x^2-2x+(1-1e-10)=0; roots should be 1 +- 1e-5.\")\n",
    "    \n",
    "def test_real_linear_degeneracy():\n",
    "    \"\"\"\n",
    "    Test that the root of x + 1 = 0 is -1.\n",
    "    \"\"\"\n",
    "    \n",
    "    root = -1.0\n",
    "    assert_equal(real_quadratic_roots(0, 1, 1), root,\n",
    "                 err_msg=\"Testing x+1=0; root should be -1.\")\n",
    "```"
   ]
  },
  {
   "cell_type": "markdown",
   "metadata": {},
   "source": [
    "Then, in a terminal or command window, switch to the directory containing this file. Then run\n",
    "\n",
    "```\n",
    "nosetests quadratic.py\n",
    "```\n",
    "\n",
    "You should see output similar to\n",
    "\n",
    "```\n",
    "nosetests quadratic.py \n",
    ".....\n",
    "----------------------------------------------------------------------\n",
    "Ran 5 tests in 0.006s\n",
    "\n",
    "OK\n",
    "```\n",
    "\n",
    "Each dot corresponds to a test. If a test fails, `nose` will report the error and move on to the next test. `nose` automatically runs every function that starts with `test`, or every file in a module starting with `test`, or more. [The documentation](https://nose.readthedocs.org/en/latest/testing.html) gives more details about using `nose` in more complex cases.\n",
    "\n",
    "To summarize: when trying to get code working, tests are essential. Tests should be simple and cover as many of the easy cases and as much of the code as possible. By writing tests as functions that raise exceptions, and using a testing framework such as `nose`, all tests can be run rapidly, saving time.\n",
    "\n",
    "## Test Driven Development\n",
    "\n",
    "There are many ways of writing code to solve problems. Most involve planning in advance how the code should be written. An alternative is to say in advance what tests the code should pass. This *Test Driven Development* (TDD) has advantages (the code always has a detailed set of tests, features in the code are always relevant to some test, it's easy to start writing code) and some disadvantages (it can be overkill for small projects, it can lead down blind alleys). A [detailed discussion is given by Beck's book](http://www.amazon.co.uk/Driven-Development-Addison-Wesley-Signature-Series/dp/0321146530), and a [more recent discussion in this series of conversations](http://martinfowler.com/articles/is-tdd-dead/).\n",
    "\n",
    "Even if TDD does not work for you, testing itself is extremely important."
   ]
  }
 ],
 "metadata": {
  "anaconda-cloud": {},
  "kernelspec": {
   "display_name": "Python 3",
   "language": "python",
   "name": "python3"
  },
  "language_info": {
   "codemirror_mode": {
    "name": "ipython",
    "version": 3
   },
   "file_extension": ".py",
   "mimetype": "text/x-python",
   "name": "python",
   "nbconvert_exporter": "python",
   "pygments_lexer": "ipython3",
   "version": "3.6.1"
  },
  "nbconvert": {
   "title": "Exceptions and testing"
  }
 },
 "nbformat": 4,
 "nbformat_minor": 1
}
